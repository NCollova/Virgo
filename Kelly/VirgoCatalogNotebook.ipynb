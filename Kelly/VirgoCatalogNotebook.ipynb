{
 "cells": [
  {
   "cell_type": "markdown",
   "metadata": {},
   "source": [
    "## Converting to Supergalactic Coordinates ##\n",
    "\n",
    "we describe how we convert from RA, DEC, and redshift to SGX,SGY, and SGZ.\n",
    "\n",
    "We try to reproduce the figures shown in Kim+2016"
   ]
  },
  {
   "cell_type": "markdown",
   "metadata": {},
   "source": [
    "### load modules ###"
   ]
  },
  {
   "cell_type": "code",
   "execution_count": 18,
   "metadata": {
    "collapsed": false
   },
   "outputs": [],
   "source": [
    "import numpy as np\n",
    "from astropy.io import fits\n",
    "from astropy.coordinates import SkyCoord\n",
    "from astropy import units as u\n",
    "import os\n",
    "import sys\n",
    "from astropy.coordinates import ICRS, Galactic, FK4, FK5  # Low-level frames\n",
    "from astropy.coordinates import Angle, Latitude, Longitude  # Angles\n",
    "from mpl_toolkits.mplot3d import Axes3D\n",
    "from astropy.cosmology import WMAP9 as cosmo\n",
    "from astropy.constants import c\n",
    "%matplotlib inline"
   ]
  },
  {
   "cell_type": "markdown",
   "metadata": {},
   "source": [
    "### Read in NSA catalog ###"
   ]
  },
  {
   "cell_type": "code",
   "execution_count": 19,
   "metadata": {
    "collapsed": false
   },
   "outputs": [
    {
     "name": "stdout",
     "output_type": "stream",
     "text": [
      "Running on Kellys's computer\n"
     ]
    }
   ],
   "source": [
    "#Get current path so program can tell if this is being run on Kelly's or Rose's computer\n",
    "mypath=os.getcwd()\n",
    "if mypath.find('rfinn') > -1:\n",
    "    print \"Running on Rose's computer\"\n",
    "    #agcfile='/Users/rfinn/idl/programs/idl_alfa/agctotal.sav'\n",
    "    gitpath='/Users/rfinn/github/'\n",
    "    nsapath = '/Users/rfinn/research/NSA/'\n",
    "    gswlpath = '/Users/rfinn/Dropbox/Research/GSWLC/'\n",
    "    agcpath = '/Users/rfinn/research/AGC/'\n",
    "elif mypath.find('kelly') > -1:\n",
    "    print \"Running on Kellys's computer\"\n",
    "    gitpath='/Users/kellywhalen/Github/'\n",
    "    nsapath = '/Users/kellywhalen/RESEARCH/NSA_table/'\n",
    "    gswlpath = '/Users/kellywhalen/RESEARCH/GSWLC/'\n",
    "    agcpath = '/Users/kellywhalen/RESEARCH/AGC/'\n",
    "\n",
    "\n",
    "#### READ IN DATA #####\n",
    "\n",
    "#NSA Table\n",
    "NSA_file = nsapath+'nsa_v0_1_2.fits'\n",
    "#NSA_file='/Users/rfinn/research/nsa/nsa_v0_1_2.fits'\n",
    "nsa = fits.getdata(NSA_file)\n",
    "nsa = nsa[0:21]\n",
    "nsadict=dict((a,b) for a,b in zip(nsa.NSAID,np.arange(len(nsa.NSAID))))"
   ]
  },
  {
   "cell_type": "markdown",
   "metadata": {},
   "source": [
    "### Select Galaxies in the vicinity of Virgo ###"
   ]
  },
  {
   "cell_type": "code",
   "execution_count": 20,
   "metadata": {
    "collapsed": false
   },
   "outputs": [],
   "source": [
    "raflag = (nsa.RA > 115.) & (nsa.RA < 240.)\n",
    "decflag= (nsa.DEC > -30.) & (nsa.DEC < 60.)\n",
    "velflag =  (nsa.Z*3.e5 < 3000.) # & (nsa.Z*3.e5 > 1000.) \n",
    "vflag = raflag & decflag & velflag \n",
    "\n",
    "#nsa = nsa[vflag]\n",
    "\n",
    "# define nsa RA and Dec as SkyCoord\n",
    "nsa_sc = SkyCoord(nsa.RA*u.degree, nsa.DEC*u.degree)\n"
   ]
  },
  {
   "cell_type": "markdown",
   "metadata": {},
   "source": [
    "##  FLOW MODEL  ##\n",
    "\n",
    "convert RA and DEC to galactic\n",
    "* l = galcoords.l.degree\n",
    "* b = galcoords.b.degree\n",
    "\n",
    "\n",
    "\n",
    "using mould+00 method to correct redshifts described in detail in appendix A\n",
    "\n",
    "http://adsabs.harvard.edu/abs/2000ApJ...529..786M\n"
   ]
  },
  {
   "cell_type": "markdown",
   "metadata": {},
   "source": [
    "### 1. Correct to centroid of the Local Group ###"
   ]
  },
  {
   "cell_type": "code",
   "execution_count": 21,
   "metadata": {
    "collapsed": true
   },
   "outputs": [],
   "source": [
    "# convert helio-centric velocity to units of km/s\n",
    "V_H = nsa.Z*c.to('km/s')\n",
    "\n",
    "# 1. correction of observed heliocentric velocity to centroid of local group\n",
    "# VLG = VH - 79 cos l cos b + 296 sin l cos b - 36 sin b\n",
    "\n",
    "V_LG = - 79.*u.km/u.second*np.cos(nsa_sc.galactic.l.radian)*np.cos(nsa_sc.galactic.b.radian) + 296.*u.km/u.second*np.sin(nsa_sc.galactic.l.radian)*np.cos(nsa_sc.galactic.b.radian) - 36.*u.km/u.second*np.sin(nsa_sc.galactic.b.radian)\n"
   ]
  },
  {
   "cell_type": "markdown",
   "metadata": {},
   "source": [
    "### 2. Correction for Virgo infall"
   ]
  },
  {
   "cell_type": "code",
   "execution_count": 22,
   "metadata": {
    "collapsed": true
   },
   "outputs": [],
   "source": [
    "# from Mould+2000, ApJ, 529, 786\n",
    "# not sure if we are using this equation exactly right\n",
    "\n",
    "V_fid = 200.*u.km/u.second # infall of LG into Virgo?\n",
    "# Virgo coordinates given by Mould+2000\n",
    "Virgo = SkyCoord('12h28m19s', '+12d40m00s', frame='fk5',equinox='J1950.') # epoch = 1950\n",
    "Virgo = Virgo.transform_to(FK5(equinox='J2000'))\n",
    "### need to fix this to use spherical distance\n",
    "#theta = np.sqrt((nsa_sc.ra.radian - Virgo.ra.radian)**2 + (nsa_sc.dec.radian - Virgo.dec.radian)**2)\n",
    "theta = Virgo.separation(nsa_sc).radian \n",
    "# cluster radius in deg\n",
    "gamma = 2.\n",
    "\n",
    "V_a = 1035.*u.km/u.second # recession vel of Virgo from Mould+2000\n",
    "#V_a = 1221.*u.km/u.second # recession vel of Virgo as calculated by Gianluca\n",
    "V_o = nsa.Z*c.to('km/s') + V_LG # recession velocities of the galaxies\n",
    "r_oa = np.sqrt(V_o**2 + V_a**2 - 2.*V_o*V_a*np.cos(theta))\n",
    "V_infall = V_fid*(np.cos(theta) + (V_o - V_a*np.cos(theta))/r_oa*(r_oa/V_a)**(1-gamma))"
   ]
  },
  {
   "cell_type": "markdown",
   "metadata": {},
   "source": [
    "### 3. Correction for GA infall ###"
   ]
  },
  {
   "cell_type": "code",
   "execution_count": 23,
   "metadata": {
    "collapsed": true
   },
   "outputs": [],
   "source": [
    "V_fid = 400.*u.km/u.second # infall of LG into Virgo?\n",
    "# GA coordinates given by Mould+2000\n",
    "GA = SkyCoord('13h20m00s', '+44d00m00s', frame='fk5',equinox='J1950.') # epoch = 1950\n",
    "GA = GA.transform_to(FK5(equinox='J2000'))\n",
    "theta = GA.separation(nsa_sc).radian\n",
    "#theta = np.sqrt((nsa_sc.ra.radian - GA.ra.radian)**2 + (nsa_sc.dec.radian - GA.dec.radian)**2)\n",
    "\n",
    "gamma = 2.\n",
    "V_a = 4380.*u.km/u.second # recession vel of Great Attractor from Mould+2000\n",
    "V_o = nsa.Z*c.to('km/s') + V_LG # recession velocities of the galaxies\n",
    "r_oa = np.sqrt(V_o**2 + V_a**2 - 2.*V_o*V_a*np.cos(theta))\n",
    "V_GA = V_fid*(np.cos(theta) + (V_o - V_a*np.cos(theta))/r_oa*(r_oa/V_a)**(1-gamma))"
   ]
  },
  {
   "cell_type": "markdown",
   "metadata": {},
   "source": [
    "### 4. Correction for Shapley supercluster infall. ###"
   ]
  },
  {
   "cell_type": "code",
   "execution_count": 24,
   "metadata": {
    "collapsed": true
   },
   "outputs": [],
   "source": [
    "# Final, correction cosmic velocity is\n",
    "#\n",
    "#  Vcosmic = VH + Vc,LG + Vin,Virgo + Vin,GA + Vin,Shap + ...\n",
    "\n",
    "# ## Tranforming to Supergalactic Coordinates##\n",
    "# \n",
    "# Looking to match the plots shown in Kim+2016\n",
    "# \n",
    "# https://arxiv.org/abs/1611.00437"
   ]
  },
  {
   "cell_type": "markdown",
   "metadata": {},
   "source": [
    "### Add up all of the corrections ###"
   ]
  },
  {
   "cell_type": "code",
   "execution_count": 25,
   "metadata": {
    "collapsed": false
   },
   "outputs": [],
   "source": [
    "#Plot of Virgo Cluster in galactic coordinates\n",
    "V_cosmic = V_H + V_LG + V_infall +V_GA\n",
    "V = V_cosmic"
   ]
  },
  {
   "cell_type": "markdown",
   "metadata": {},
   "source": [
    "### Convert to Supergalactic X, Y, and X coordinates###"
   ]
  },
  {
   "cell_type": "code",
   "execution_count": 26,
   "metadata": {
    "collapsed": true
   },
   "outputs": [],
   "source": [
    "#SGX = V/cosmo.H(0)*np.cos(nsa_sc.supergalactic.sgl.radian)*np.cos(nsa_sc.supergalactic.sgb.radian)\n",
    "#SGY = V/cosmo.H(0)*np.sin(nsa_sc.supergalactic.sgl.radian)*np.cos(nsa_sc.supergalactic.sgb.radian)\n",
    "#SGZ = V/cosmo.H(0)*np.sin(nsa_sc.supergalactic.sgb.radian)\n",
    "\n",
    "\n",
    "# using H0 = 74 to match Kim+2016 paper\n",
    "#H0 = 74.*u.km/u.second/u.Mpc\n",
    "H0 = 100.*u.km/u.second/u.Mpc #Kim's email\n",
    "SGX = V/H0*np.cos(nsa_sc.supergalactic.sgl.radian)*np.cos(nsa_sc.supergalactic.sgb.radian)\n",
    "SGY = V/H0*np.sin(nsa_sc.supergalactic.sgl.radian)*np.cos(nsa_sc.supergalactic.sgb.radian)\n",
    "SGZ = V/H0*np.sin(nsa_sc.supergalactic.sgb.radian)"
   ]
  },
  {
   "cell_type": "markdown",
   "metadata": {},
   "source": [
    "### Subtract the Position of Virgo ###"
   ]
  },
  {
   "cell_type": "code",
   "execution_count": 27,
   "metadata": {
    "collapsed": true
   },
   "outputs": [],
   "source": [
    "distance_to_virgo = 16.5*u.Mpc #Mpc\n",
    "SGX_Virgo = distance_to_virgo*np.cos(Virgo.supergalactic.sgl.radian)*np.cos(Virgo.supergalactic.sgb.radian)\n",
    "SGY_Virgo = distance_to_virgo*np.sin(Virgo.supergalactic.sgl.radian)*np.cos(Virgo.supergalactic.sgb.radian)\n",
    "SGZ_Virgo = distance_to_virgo*np.sin(Virgo.supergalactic.sgb.radian)\n",
    "\n",
    "# difference \n",
    "DSGX = SGX - SGX_Virgo\n",
    "DSGY = SGY - SGY_Virgo\n",
    "DSGZ = SGZ - SGZ_Virgo\n"
   ]
  },
  {
   "cell_type": "markdown",
   "metadata": {},
   "source": [
    "### Various cuts used by Kim+2016 ###"
   ]
  },
  {
   "cell_type": "code",
   "execution_count": 28,
   "metadata": {
    "collapsed": false
   },
   "outputs": [],
   "source": [
    "# don't use objects w/in 3.6 Mpc of Virgo (Kim+2016)http://localhost:8888/notebooks/VirgoCatalog.ipynb#\n",
    "\n",
    "dist = np.sqrt(DSGX**2 + DSGY**2 + DSGZ**2) \n",
    "dist = dist / u.Mpc\n",
    "\n",
    "distarray = np.array(dist)\n",
    "vdistflag = distarray < 50\n",
    "\n",
    "VirgoTestSet = nsa[vdistflag]\n"
   ]
  },
  {
   "cell_type": "raw",
   "metadata": {
    "collapsed": false
   },
   "source": [
    "print distarray"
   ]
  },
  {
   "cell_type": "markdown",
   "metadata": {},
   "source": []
  },
  {
   "cell_type": "code",
   "execution_count": 29,
   "metadata": {
    "collapsed": false
   },
   "outputs": [],
   "source": [
    "def VirgoCatalog(NSA_file):\n",
    "    \n",
    "    #read in .fits file\n",
    "    nsa = fits.getdata(NSA_file)\n",
    "    nsadict=dict((a,b) for a,b in zip(nsa.NSAID,np.arange(len(nsa.NSAID))))\n",
    "    \n",
    "    #Pick out galaxies in the general region of virgo\n",
    "    raflag = (nsa.RA > 115.) & (nsa.RA < 240.)\n",
    "    decflag= (nsa.DEC > -30.) & (nsa.DEC < 60.)\n",
    "    velflag =  (nsa.Z*3.e5 < 3000.) \n",
    "    vflag = raflag & decflag & velflag \n",
    "\n",
    "    # define nsa RA and Dec as SkyCoord\n",
    "    nsa_sc = SkyCoord(nsa.RA*u.degree, nsa.DEC*u.degree)\n",
    "    \n",
    "    # convert helio-centric velocity to units of km/s\n",
    "    V_H = nsa.Z*c.to('km/s')\n",
    "\n",
    "    # 1. correction of observed heliocentric velocity to centroid of local group\n",
    "    # VLG = VH - 79 cos l cos b + 296 sin l cos b - 36 sin b\n",
    "\n",
    "    V_LG = - 79.*u.km/u.second*np.cos(nsa_sc.galactic.l.radian)*np.cos(nsa_sc.galactic.b.radian) + 296.*u.km/u.second*np.sin(nsa_sc.galactic.l.radian)*np.cos(nsa_sc.galactic.b.radian) - 36.*u.km/u.second*np.sin(nsa_sc.galactic.b.radian)\n",
    "\n",
    "    # from Mould+2000, ApJ, 529, 786\n",
    "    # not sure if we are using this equation exactly right\n",
    "\n",
    "    V_fid = 200.*u.km/u.second # infall of LG into Virgo?\n",
    "    # Virgo coordinates given by Mould+2000\n",
    "    Virgo = SkyCoord('12h28m19s', '+12d40m00s', frame='fk5',equinox='J1950.') # epoch = 1950\n",
    "    Virgo = Virgo.transform_to(FK5(equinox='J2000'))\n",
    "    ### need to fix this to use spherical distance\n",
    "    #theta = np.sqrt((nsa_sc.ra.radian - Virgo.ra.radian)**2 + (nsa_sc.dec.radian - Virgo.dec.radian)**2)\n",
    "    theta = Virgo.separation(nsa_sc).radian \n",
    "    # cluster radius in deg\n",
    "    gamma = 2.\n",
    "\n",
    "    V_a = 1035.*u.km/u.second # recession vel of Virgo from Mould+2000\n",
    "    #V_a = 1221.*u.km/u.second # recession vel of Virgo as calculated by Gianluca\n",
    "    V_o = nsa.Z*c.to('km/s') + V_LG # recession velocities of the galaxies\n",
    "    r_oa = np.sqrt(V_o**2 + V_a**2 - 2.*V_o*V_a*np.cos(theta))\n",
    "    V_infall = V_fid*(np.cos(theta) + (V_o - V_a*np.cos(theta))/r_oa*(r_oa/V_a)**(1-gamma))\n",
    "    \n",
    "    V_fid = 400.*u.km/u.second # infall of LG into Virgo?\n",
    "    # GA coordinates given by Mould+2000\n",
    "    GA = SkyCoord('13h20m00s', '+44d00m00s', frame='fk5',equinox='J1950.') # epoch = 1950\n",
    "    GA = GA.transform_to(FK5(equinox='J2000'))\n",
    "    theta = GA.separation(nsa_sc).radian\n",
    "    #theta = np.sqrt((nsa_sc.ra.radian - GA.ra.radian)**2 + (nsa_sc.dec.radian - GA.dec.radian)**2)\n",
    "\n",
    "    gamma = 2.\n",
    "    V_a = 4380.*u.km/u.second # recession vel of Great Attractor from Mould+2000\n",
    "    V_o = nsa.Z*c.to('km/s') + V_LG # recession velocities of the galaxies\n",
    "    r_oa = np.sqrt(V_o**2 + V_a**2 - 2.*V_o*V_a*np.cos(theta))\n",
    "    V_GA = V_fid*(np.cos(theta) + (V_o - V_a*np.cos(theta))/r_oa*(r_oa/V_a)**(1-gamma))\n",
    "    \n",
    "    #Add up all corrections\n",
    "    V_cosmic = V_H + V_LG + V_infall +V_GA\n",
    "    V = V_cosmic\n",
    "    \n",
    "    #Convert to supergalactic coordinates\n",
    "    # using H0 = 74 to match Kim+2016 paper\n",
    "    #H0 = 74.*u.km/u.second/u.Mpc\n",
    "    H0 = 100.*u.km/u.second/u.Mpc #Kim's email\n",
    "    SGX = V/H0*np.cos(nsa_sc.supergalactic.sgl.radian)*np.cos(nsa_sc.supergalactic.sgb.radian)\n",
    "    SGY = V/H0*np.sin(nsa_sc.supergalactic.sgl.radian)*np.cos(nsa_sc.supergalactic.sgb.radian)\n",
    "    SGZ = V/H0*np.sin(nsa_sc.supergalactic.sgb.radian)\n",
    "    \n",
    "    #Getting distance from virgo\n",
    "    distance_to_virgo = 16.5*u.Mpc #Mpc\n",
    "    SGX_Virgo = distance_to_virgo*np.cos(Virgo.supergalactic.sgl.radian)*np.cos(Virgo.supergalactic.sgb.radian)\n",
    "    SGY_Virgo = distance_to_virgo*np.sin(Virgo.supergalactic.sgl.radian)*np.cos(Virgo.supergalactic.sgb.radian)\n",
    "    SGZ_Virgo = distance_to_virgo*np.sin(Virgo.supergalactic.sgb.radian)\n",
    "\n",
    "    # difference \n",
    "    DSGX = SGX - SGX_Virgo\n",
    "    DSGY = SGY - SGY_Virgo\n",
    "    DSGZ = SGZ - SGZ_Virgo\n",
    "\n",
    "    dist = np.sqrt(DSGX**2 + DSGY**2 + DSGZ**2) \n",
    "    dist = dist / u.Mpc\n",
    "    \n",
    "    distarray = np.array(dist)\n",
    "    vdistflag = distarray < 18 #What is the radius of virgo??\n",
    "\n",
    "    VirgoTestSet = nsa[vdistflag]\n",
    "\n",
    "    fits.writeto(gitpath+'Virgo/tables/VirgoCatalog.fits', VirgoTestSet, clobber=True)"
   ]
  },
  {
   "cell_type": "code",
   "execution_count": 30,
   "metadata": {
    "collapsed": true
   },
   "outputs": [],
   "source": [
    "table_ext = gitpath+'Virgo/tables/'"
   ]
  },
  {
   "cell_type": "code",
   "execution_count": 31,
   "metadata": {
    "collapsed": true
   },
   "outputs": [],
   "source": [
    "VirgoCatalog(NSA_file)"
   ]
  },
  {
   "cell_type": "code",
   "execution_count": 35,
   "metadata": {
    "collapsed": false
   },
   "outputs": [],
   "source": [
    "#Line Match with Jablonka Catalog\n",
    "\n",
    "vdat = fits.getdata(table_ext +'VirgoCatalog.fits')\n",
    "jdat = fits.getdata(table_ext + 'Jablonka-MasterFile-2017Mar23.fits')\n",
    "\n",
    "virgocat = SkyCoord(vdat.RA*u.degree,vdat.DEC*u.degree,frame='icrs')\n",
    "jcat = SkyCoord(jdat.RA*u.degree,jdat.DEC*u.degree,frame='icrs')\n",
    "\n",
    "index,dist2d,dist3d = virgocat.match_to_catalog_sky(jcat)\n",
    "\n",
    "# only keep matches with matched RA and Dec w/in 1 arcsec\n",
    "matchflag = dist2d.degree < 2./3600\n",
    "\n",
    "# write out line-matched catalog\n",
    "outfile= table_ext + 'CO-HI_virgo.fits'\n",
    "matchedarray1=np.zeros(len(vdat),dtype=jdat.dtype)\n",
    "matchedarray1[matchflag] = jdat[index[matchflag]]\n",
    "\n",
    "fits.writeto(outfile,matchedarray1,clobber=True)\n",
    "#t = fits.getdata(outfile)\n",
    "#t.add_column()\n",
    "\n",
    "#Adding a column of whether a galaxy is in a filament\n",
    "dat = fits.open(table_ext + 'CO-HI_virgo.fits')[1].data\n",
    "\n",
    "filcol = np.zeros(len(matchedarray1))\n",
    "filcol[matchflag] = 1.\n",
    "newcol = []\n",
    "newcol = fits.Column(name ='IsInFilament', format = 'D', array = filcol)\n",
    "\n",
    "#dat.columns()\n",
    "origcols = dat.columns\n",
    "hdu = fits.BinTableHDU.from_columns(origcols + newcol)\n",
    "outfile= table_ext + 'CO-HI_virgo.fits'\n",
    "hdu.writeto(outfile, clobber = 'True')\n"
   ]
  },
  {
   "cell_type": "code",
   "execution_count": 33,
   "metadata": {
    "collapsed": false
   },
   "outputs": [
    {
     "ename": "IOError",
     "evalue": "[Errno 2] No such file or directory: '/Users/kellywhalen/RESEARCH/NSA_table/nsa_v1_2_fsps_v2.4_miles_chab_charlot_sfhgrid01.fits'",
     "output_type": "error",
     "traceback": [
      "\u001b[0;31m---------------------------------------------------------------------------\u001b[0m",
      "\u001b[0;31mIOError\u001b[0m                                   Traceback (most recent call last)",
      "\u001b[0;32m<ipython-input-33-600a90efac6a>\u001b[0m in \u001b[0;36m<module>\u001b[0;34m()\u001b[0m\n\u001b[1;32m      1\u001b[0m \u001b[0;31m#Line match this catalog to Moustakas's stellar mass file\u001b[0m\u001b[0;34m\u001b[0m\u001b[0;34m\u001b[0m\u001b[0m\n\u001b[1;32m      2\u001b[0m \u001b[0mvdat\u001b[0m \u001b[0;34m=\u001b[0m \u001b[0mfits\u001b[0m\u001b[0;34m.\u001b[0m\u001b[0mgetdata\u001b[0m\u001b[0;34m(\u001b[0m\u001b[0mtable_ext\u001b[0m \u001b[0;34m+\u001b[0m \u001b[0;34m'VirgoCatalog.fits'\u001b[0m\u001b[0;34m)\u001b[0m\u001b[0;34m\u001b[0m\u001b[0m\n\u001b[0;32m----> 3\u001b[0;31m \u001b[0mmdat\u001b[0m \u001b[0;34m=\u001b[0m \u001b[0mfits\u001b[0m\u001b[0;34m.\u001b[0m\u001b[0mgetdata\u001b[0m\u001b[0;34m(\u001b[0m\u001b[0mnsapath\u001b[0m \u001b[0;34m+\u001b[0m \u001b[0;34m'nsa_v1_2_fsps_v2.4_miles_chab_charlot_sfhgrid01.fits'\u001b[0m\u001b[0;34m)\u001b[0m\u001b[0;34m\u001b[0m\u001b[0m\n\u001b[0m\u001b[1;32m      4\u001b[0m \u001b[0;34m\u001b[0m\u001b[0m\n\u001b[1;32m      5\u001b[0m \u001b[0mvirgocat\u001b[0m \u001b[0;34m=\u001b[0m \u001b[0mSkyCoord\u001b[0m\u001b[0;34m(\u001b[0m\u001b[0mvdat\u001b[0m\u001b[0;34m.\u001b[0m\u001b[0mRA\u001b[0m\u001b[0;34m*\u001b[0m\u001b[0mu\u001b[0m\u001b[0;34m.\u001b[0m\u001b[0mdegree\u001b[0m\u001b[0;34m,\u001b[0m\u001b[0mvdat\u001b[0m\u001b[0;34m.\u001b[0m\u001b[0mDEC\u001b[0m\u001b[0;34m*\u001b[0m\u001b[0mu\u001b[0m\u001b[0;34m.\u001b[0m\u001b[0mdegree\u001b[0m\u001b[0;34m,\u001b[0m\u001b[0mframe\u001b[0m\u001b[0;34m=\u001b[0m\u001b[0;34m'icrs'\u001b[0m\u001b[0;34m)\u001b[0m\u001b[0;34m\u001b[0m\u001b[0m\n",
      "\u001b[0;32m/Users/kellywhalen/anaconda2/envs/py27/lib/python2.7/site-packages/astropy/io/fits/convenience.pyc\u001b[0m in \u001b[0;36mgetdata\u001b[0;34m(filename, *args, **kwargs)\u001b[0m\n\u001b[1;32m    191\u001b[0m     \u001b[0mview\u001b[0m \u001b[0;34m=\u001b[0m \u001b[0mkwargs\u001b[0m\u001b[0;34m.\u001b[0m\u001b[0mpop\u001b[0m\u001b[0;34m(\u001b[0m\u001b[0;34m'view'\u001b[0m\u001b[0;34m,\u001b[0m \u001b[0mNone\u001b[0m\u001b[0;34m)\u001b[0m\u001b[0;34m\u001b[0m\u001b[0m\n\u001b[1;32m    192\u001b[0m \u001b[0;34m\u001b[0m\u001b[0m\n\u001b[0;32m--> 193\u001b[0;31m     \u001b[0mhdulist\u001b[0m\u001b[0;34m,\u001b[0m \u001b[0mextidx\u001b[0m \u001b[0;34m=\u001b[0m \u001b[0m_getext\u001b[0m\u001b[0;34m(\u001b[0m\u001b[0mfilename\u001b[0m\u001b[0;34m,\u001b[0m \u001b[0mmode\u001b[0m\u001b[0;34m,\u001b[0m \u001b[0;34m*\u001b[0m\u001b[0margs\u001b[0m\u001b[0;34m,\u001b[0m \u001b[0;34m**\u001b[0m\u001b[0mkwargs\u001b[0m\u001b[0;34m)\u001b[0m\u001b[0;34m\u001b[0m\u001b[0m\n\u001b[0m\u001b[1;32m    194\u001b[0m     \u001b[0;32mtry\u001b[0m\u001b[0;34m:\u001b[0m\u001b[0;34m\u001b[0m\u001b[0m\n\u001b[1;32m    195\u001b[0m         \u001b[0mhdu\u001b[0m \u001b[0;34m=\u001b[0m \u001b[0mhdulist\u001b[0m\u001b[0;34m[\u001b[0m\u001b[0mextidx\u001b[0m\u001b[0;34m]\u001b[0m\u001b[0;34m\u001b[0m\u001b[0m\n",
      "\u001b[0;32m/Users/kellywhalen/anaconda2/envs/py27/lib/python2.7/site-packages/astropy/io/fits/convenience.pyc\u001b[0m in \u001b[0;36m_getext\u001b[0;34m(filename, mode, *args, **kwargs)\u001b[0m\n\u001b[1;32m    872\u001b[0m         \u001b[0;32mraise\u001b[0m \u001b[0mTypeError\u001b[0m\u001b[0;34m(\u001b[0m\u001b[0;34m'extver alone cannot specify an extension.'\u001b[0m\u001b[0;34m)\u001b[0m\u001b[0;34m\u001b[0m\u001b[0m\n\u001b[1;32m    873\u001b[0m \u001b[0;34m\u001b[0m\u001b[0m\n\u001b[0;32m--> 874\u001b[0;31m     \u001b[0mhdulist\u001b[0m \u001b[0;34m=\u001b[0m \u001b[0mfitsopen\u001b[0m\u001b[0;34m(\u001b[0m\u001b[0mfilename\u001b[0m\u001b[0;34m,\u001b[0m \u001b[0mmode\u001b[0m\u001b[0;34m=\u001b[0m\u001b[0mmode\u001b[0m\u001b[0;34m,\u001b[0m \u001b[0;34m**\u001b[0m\u001b[0mkwargs\u001b[0m\u001b[0;34m)\u001b[0m\u001b[0;34m\u001b[0m\u001b[0m\n\u001b[0m\u001b[1;32m    875\u001b[0m \u001b[0;34m\u001b[0m\u001b[0m\n\u001b[1;32m    876\u001b[0m     \u001b[0;32mreturn\u001b[0m \u001b[0mhdulist\u001b[0m\u001b[0;34m,\u001b[0m \u001b[0mext\u001b[0m\u001b[0;34m\u001b[0m\u001b[0m\n",
      "\u001b[0;32m/Users/kellywhalen/anaconda2/envs/py27/lib/python2.7/site-packages/astropy/io/fits/hdu/hdulist.pyc\u001b[0m in \u001b[0;36mfitsopen\u001b[0;34m(name, mode, memmap, save_backup, cache, **kwargs)\u001b[0m\n\u001b[1;32m    137\u001b[0m         \u001b[0;32mraise\u001b[0m \u001b[0mValueError\u001b[0m\u001b[0;34m(\u001b[0m\u001b[0;34m'Empty filename: %s'\u001b[0m \u001b[0;34m%\u001b[0m \u001b[0mrepr\u001b[0m\u001b[0;34m(\u001b[0m\u001b[0mname\u001b[0m\u001b[0;34m)\u001b[0m\u001b[0;34m)\u001b[0m\u001b[0;34m\u001b[0m\u001b[0m\n\u001b[1;32m    138\u001b[0m \u001b[0;34m\u001b[0m\u001b[0m\n\u001b[0;32m--> 139\u001b[0;31m     \u001b[0;32mreturn\u001b[0m \u001b[0mHDUList\u001b[0m\u001b[0;34m.\u001b[0m\u001b[0mfromfile\u001b[0m\u001b[0;34m(\u001b[0m\u001b[0mname\u001b[0m\u001b[0;34m,\u001b[0m \u001b[0mmode\u001b[0m\u001b[0;34m,\u001b[0m \u001b[0mmemmap\u001b[0m\u001b[0;34m,\u001b[0m \u001b[0msave_backup\u001b[0m\u001b[0;34m,\u001b[0m \u001b[0mcache\u001b[0m\u001b[0;34m,\u001b[0m \u001b[0;34m**\u001b[0m\u001b[0mkwargs\u001b[0m\u001b[0;34m)\u001b[0m\u001b[0;34m\u001b[0m\u001b[0m\n\u001b[0m\u001b[1;32m    140\u001b[0m \u001b[0;34m\u001b[0m\u001b[0m\n\u001b[1;32m    141\u001b[0m \u001b[0;34m\u001b[0m\u001b[0m\n",
      "\u001b[0;32m/Users/kellywhalen/anaconda2/envs/py27/lib/python2.7/site-packages/astropy/io/fits/hdu/hdulist.pyc\u001b[0m in \u001b[0;36mfromfile\u001b[0;34m(cls, fileobj, mode, memmap, save_backup, cache, **kwargs)\u001b[0m\n\u001b[1;32m    279\u001b[0m \u001b[0;34m\u001b[0m\u001b[0m\n\u001b[1;32m    280\u001b[0m         return cls._readfrom(fileobj=fileobj, mode=mode, memmap=memmap,\n\u001b[0;32m--> 281\u001b[0;31m                              save_backup=save_backup, cache=cache, **kwargs)\n\u001b[0m\u001b[1;32m    282\u001b[0m \u001b[0;34m\u001b[0m\u001b[0m\n\u001b[1;32m    283\u001b[0m     \u001b[0;34m@\u001b[0m\u001b[0mclassmethod\u001b[0m\u001b[0;34m\u001b[0m\u001b[0m\n",
      "\u001b[0;32m/Users/kellywhalen/anaconda2/envs/py27/lib/python2.7/site-packages/astropy/io/fits/hdu/hdulist.pyc\u001b[0m in \u001b[0;36m_readfrom\u001b[0;34m(cls, fileobj, data, mode, memmap, save_backup, cache, **kwargs)\u001b[0m\n\u001b[1;32m    800\u001b[0m             \u001b[0;32mif\u001b[0m \u001b[0;32mnot\u001b[0m \u001b[0misinstance\u001b[0m\u001b[0;34m(\u001b[0m\u001b[0mfileobj\u001b[0m\u001b[0;34m,\u001b[0m \u001b[0m_File\u001b[0m\u001b[0;34m)\u001b[0m\u001b[0;34m:\u001b[0m\u001b[0;34m\u001b[0m\u001b[0m\n\u001b[1;32m    801\u001b[0m                 \u001b[0;31m# instantiate a FITS file object (ffo)\u001b[0m\u001b[0;34m\u001b[0m\u001b[0;34m\u001b[0m\u001b[0m\n\u001b[0;32m--> 802\u001b[0;31m                 \u001b[0mffo\u001b[0m \u001b[0;34m=\u001b[0m \u001b[0m_File\u001b[0m\u001b[0;34m(\u001b[0m\u001b[0mfileobj\u001b[0m\u001b[0;34m,\u001b[0m \u001b[0mmode\u001b[0m\u001b[0;34m=\u001b[0m\u001b[0mmode\u001b[0m\u001b[0;34m,\u001b[0m \u001b[0mmemmap\u001b[0m\u001b[0;34m=\u001b[0m\u001b[0mmemmap\u001b[0m\u001b[0;34m,\u001b[0m \u001b[0mcache\u001b[0m\u001b[0;34m=\u001b[0m\u001b[0mcache\u001b[0m\u001b[0;34m)\u001b[0m\u001b[0;34m\u001b[0m\u001b[0m\n\u001b[0m\u001b[1;32m    803\u001b[0m             \u001b[0;32melse\u001b[0m\u001b[0;34m:\u001b[0m\u001b[0;34m\u001b[0m\u001b[0m\n\u001b[1;32m    804\u001b[0m                 \u001b[0mffo\u001b[0m \u001b[0;34m=\u001b[0m \u001b[0mfileobj\u001b[0m\u001b[0;34m\u001b[0m\u001b[0m\n",
      "\u001b[0;32m/Users/kellywhalen/anaconda2/envs/py27/lib/python2.7/site-packages/astropy/io/fits/file.pyc\u001b[0m in \u001b[0;36m__init__\u001b[0;34m(self, fileobj, mode, memmap, clobber, cache)\u001b[0m\n\u001b[1;32m    148\u001b[0m             \u001b[0mself\u001b[0m\u001b[0;34m.\u001b[0m\u001b[0m_open_fileobj\u001b[0m\u001b[0;34m(\u001b[0m\u001b[0mfileobj\u001b[0m\u001b[0;34m,\u001b[0m \u001b[0mmode\u001b[0m\u001b[0;34m,\u001b[0m \u001b[0mclobber\u001b[0m\u001b[0;34m)\u001b[0m\u001b[0;34m\u001b[0m\u001b[0m\n\u001b[1;32m    149\u001b[0m         \u001b[0;32melif\u001b[0m \u001b[0misinstance\u001b[0m\u001b[0;34m(\u001b[0m\u001b[0mfileobj\u001b[0m\u001b[0;34m,\u001b[0m \u001b[0mstring_types\u001b[0m\u001b[0;34m)\u001b[0m\u001b[0;34m:\u001b[0m\u001b[0;34m\u001b[0m\u001b[0m\n\u001b[0;32m--> 150\u001b[0;31m             \u001b[0mself\u001b[0m\u001b[0;34m.\u001b[0m\u001b[0m_open_filename\u001b[0m\u001b[0;34m(\u001b[0m\u001b[0mfileobj\u001b[0m\u001b[0;34m,\u001b[0m \u001b[0mmode\u001b[0m\u001b[0;34m,\u001b[0m \u001b[0mclobber\u001b[0m\u001b[0;34m)\u001b[0m\u001b[0;34m\u001b[0m\u001b[0m\n\u001b[0m\u001b[1;32m    151\u001b[0m         \u001b[0;32melse\u001b[0m\u001b[0;34m:\u001b[0m\u001b[0;34m\u001b[0m\u001b[0m\n\u001b[1;32m    152\u001b[0m             \u001b[0mself\u001b[0m\u001b[0;34m.\u001b[0m\u001b[0m_open_filelike\u001b[0m\u001b[0;34m(\u001b[0m\u001b[0mfileobj\u001b[0m\u001b[0;34m,\u001b[0m \u001b[0mmode\u001b[0m\u001b[0;34m,\u001b[0m \u001b[0mclobber\u001b[0m\u001b[0;34m)\u001b[0m\u001b[0;34m\u001b[0m\u001b[0m\n",
      "\u001b[0;32m/Users/kellywhalen/anaconda2/envs/py27/lib/python2.7/site-packages/astropy/io/fits/file.pyc\u001b[0m in \u001b[0;36m_open_filename\u001b[0;34m(self, filename, mode, clobber)\u001b[0m\n\u001b[1;32m    500\u001b[0m             \u001b[0mself\u001b[0m\u001b[0;34m.\u001b[0m\u001b[0m_file\u001b[0m \u001b[0;34m=\u001b[0m \u001b[0mbz2\u001b[0m\u001b[0;34m.\u001b[0m\u001b[0mBZ2File\u001b[0m\u001b[0;34m(\u001b[0m\u001b[0mself\u001b[0m\u001b[0;34m.\u001b[0m\u001b[0mname\u001b[0m\u001b[0;34m,\u001b[0m \u001b[0mbzip2_mode\u001b[0m\u001b[0;34m)\u001b[0m\u001b[0;34m\u001b[0m\u001b[0m\n\u001b[1;32m    501\u001b[0m         \u001b[0;32melse\u001b[0m\u001b[0;34m:\u001b[0m\u001b[0;34m\u001b[0m\u001b[0m\n\u001b[0;32m--> 502\u001b[0;31m             \u001b[0mself\u001b[0m\u001b[0;34m.\u001b[0m\u001b[0m_file\u001b[0m \u001b[0;34m=\u001b[0m \u001b[0mfileobj_open\u001b[0m\u001b[0;34m(\u001b[0m\u001b[0mself\u001b[0m\u001b[0;34m.\u001b[0m\u001b[0mname\u001b[0m\u001b[0;34m,\u001b[0m \u001b[0mPYFITS_MODES\u001b[0m\u001b[0;34m[\u001b[0m\u001b[0mmode\u001b[0m\u001b[0;34m]\u001b[0m\u001b[0;34m)\u001b[0m\u001b[0;34m\u001b[0m\u001b[0m\n\u001b[0m\u001b[1;32m    503\u001b[0m \u001b[0;34m\u001b[0m\u001b[0m\n\u001b[1;32m    504\u001b[0m         \u001b[0;31m# Make certain we're back at the beginning of the file\u001b[0m\u001b[0;34m\u001b[0m\u001b[0;34m\u001b[0m\u001b[0m\n",
      "\u001b[0;32m/Users/kellywhalen/anaconda2/envs/py27/lib/python2.7/site-packages/astropy/io/fits/util.pyc\u001b[0m in \u001b[0;36mfileobj_open\u001b[0;34m(filename, mode)\u001b[0m\n\u001b[1;32m    401\u001b[0m         \"\"\"\n\u001b[1;32m    402\u001b[0m \u001b[0;34m\u001b[0m\u001b[0m\n\u001b[0;32m--> 403\u001b[0;31m         \u001b[0;32mreturn\u001b[0m \u001b[0mopen\u001b[0m\u001b[0;34m(\u001b[0m\u001b[0mfilename\u001b[0m\u001b[0;34m,\u001b[0m \u001b[0mmode\u001b[0m\u001b[0;34m)\u001b[0m\u001b[0;34m\u001b[0m\u001b[0m\n\u001b[0m\u001b[1;32m    404\u001b[0m \u001b[0;34m\u001b[0m\u001b[0m\n\u001b[1;32m    405\u001b[0m \u001b[0;34m\u001b[0m\u001b[0m\n",
      "\u001b[0;31mIOError\u001b[0m: [Errno 2] No such file or directory: '/Users/kellywhalen/RESEARCH/NSA_table/nsa_v1_2_fsps_v2.4_miles_chab_charlot_sfhgrid01.fits'"
     ]
    }
   ],
   "source": [
    "#Line match this catalog to Moustakas's stellar mass file\n",
    "vdat = fits.getdata(table_ext + 'VirgoCatalog.fits')\n",
    "mdat = fits.getdata(nsapath + 'nsa_v1_2_fsps_v2.4_miles_chab_charlot_sfhgrid01.fits')\n",
    "\n",
    "virgocat = SkyCoord(vdat.RA*u.degree,vdat.DEC*u.degree,frame='icrs')\n",
    "masscat = SkyCoord(mdat.RA*u.degree,mdat.DEC*u.degree,frame='icrs')\n",
    "\n",
    "index,dist2d,dist3d = virgocat.match_to_catalog_sky(masscat)\n",
    "\n",
    "# only keep matches with matched RA and Dec w/in 1 arcsec\n",
    "matchflag = dist2d.degree < 2./3600\n",
    "\n",
    "# write out line-matched catalog\n",
    "outfile= table_ext + 'StellarMasstoNSA_virgo.fits'\n",
    "matchedarray1=np.zeros(len(vdat),dtype=mdat.dtype)\n",
    "matchedarray1[matchflag] = mdat[index[matchflag]]\n",
    "fits.writeto(outfile,matchedarray1,clobber=True)"
   ]
  },
  {
   "cell_type": "code",
   "execution_count": null,
   "metadata": {
    "collapsed": false
   },
   "outputs": [],
   "source": [
    "#Line match this catalog to Yang Model\n",
    "vdat = fits.getdata(table_ext + 'VirgoCatalog.fits')\n",
    "ydat = fits.getdata(nsapath + 'YangDR7ModelToNSA.fits')\n",
    "\n",
    "virgocat = SkyCoord(vdat.RA*u.degree,vdat.DEC*u.degree,frame='icrs')\n",
    "yangcat = SkyCoord(ydat.RA_gal*u.degree,ydat.DEC_gal*u.degree,frame='icrs')\n",
    "\n",
    "index,dist2d,dist3d = virgocat.match_to_catalog_sky(yangcat)\n",
    "\n",
    "# only keep matches with matched RA and Dec w/in 1 arcsec\n",
    "matchflag = dist2d.degree < 2./3600\n",
    "\n",
    "# write out line-matched catalog\n",
    "outfile= table_ext + 'YangModeltoNSA_virgo.fits'\n",
    "matchedarray1=np.zeros(len(vdat),dtype=ydat.dtype)\n",
    "matchedarray1[matchflag] = ydat[index[matchflag]]\n",
    "fits.writeto(outfile,matchedarray1,clobber=True)"
   ]
  },
  {
   "cell_type": "code",
   "execution_count": null,
   "metadata": {
    "collapsed": false
   },
   "outputs": [],
   "source": [
    "#Line match this catalog to Yang Petro\n",
    "vdat = fits.getdata(table_ext + 'VirgoCatalog.fits')\n",
    "ydat = fits.getdata(nsapath + 'YangDR7PetroToNSA.fits')\n",
    "\n",
    "virgocat = SkyCoord(vdat.RA*u.degree,vdat.DEC*u.degree,frame='icrs')\n",
    "yangcat = SkyCoord(ydat.RA_gal*u.degree,ydat.DEC_gal*u.degree,frame='icrs')\n",
    "\n",
    "index,dist2d,dist3d = virgocat.match_to_catalog_sky(yangcat)\n",
    "\n",
    "# only keep matches with matched RA and Dec w/in 1 arcsec\n",
    "matchflag = dist2d.degree < 2./3600\n",
    "\n",
    "# write out line-matched catalog\n",
    "outfile= table_ext + 'YangPetrotoNSA_virgo.fits'\n",
    "matchedarray1=np.zeros(len(vdat),dtype=ydat.dtype)\n",
    "matchedarray1[matchflag] = ydat[index[matchflag]]\n",
    "fits.writeto(outfile,matchedarray1,clobber=True)"
   ]
  },
  {
   "cell_type": "code",
   "execution_count": null,
   "metadata": {
    "collapsed": false
   },
   "outputs": [],
   "source": [
    "#Line match this catalog to simard 1\n",
    "\n",
    "vdat = fits.getdata(table_ext + 'VirgoCatalog.fits')\n",
    "sdat = fits.getdata(nsapath + 'Simard1ToNSA.fits')\n",
    "\n",
    "virgocat = SkyCoord(vdat.RA*u.degree,vdat.DEC*u.degree,frame='icrs')\n",
    "simardcat = SkyCoord(sdat._RA*u.degree,sdat._DE*u.degree,frame='icrs')\n",
    "\n",
    "index,dist2d,dist3d = virgocat.match_to_catalog_sky(simardcat)\n",
    "\n",
    "# only keep matches with matched RA and Dec w/in 1 arcsec\n",
    "matchflag = dist2d.degree < 2./3600\n",
    "\n",
    "# write out line-matched catalog\n",
    "outfile= table_ext + 'Simard1toNSA_virgo.fits'\n",
    "matchedarray1=np.zeros(len(vdat),dtype=sdat.dtype)\n",
    "matchedarray1[matchflag] = sdat[index[matchflag]]\n",
    "fits.writeto(outfile,matchedarray1,clobber=True)\n",
    "\n"
   ]
  },
  {
   "cell_type": "code",
   "execution_count": null,
   "metadata": {
    "collapsed": false
   },
   "outputs": [],
   "source": [
    "#Line match this catalog to simard 2\n",
    "\n",
    "vdat = fits.getdata(table_ext + 'VirgoCatalog.fits')\n",
    "sdat = fits.getdata(nsapath + 'Simard2ToNSA.fits')\n",
    "\n",
    "virgocat = SkyCoord(vdat.RA*u.degree,vdat.DEC*u.degree,frame='icrs')\n",
    "#simardcat = SkyCoord(sdat._RA*u.degree,sdat._DE*u.degree,frame='icrs')\n",
    "\n",
    "index,dist2d,dist3d = virgocat.match_to_catalog_sky(simardcat)\n",
    "\n",
    "# only keep matches with matched RA and Dec w/in 1 arcsec\n",
    "matchflag = dist2d.degree < 2./3600\n",
    "\n",
    "# write out line-matched catalog\n",
    "outfile= table_ext + 'Simard2toNSA_virgo.fits'\n",
    "matchedarray1=np.zeros(len(vdat),dtype=sdat.dtype)\n",
    "matchedarray1[matchflag] = sdat[index[matchflag]]\n",
    "fits.writeto(outfile,matchedarray1,clobber=True)"
   ]
  },
  {
   "cell_type": "code",
   "execution_count": null,
   "metadata": {
    "collapsed": false
   },
   "outputs": [],
   "source": [
    "#Line match this catalog to simard 3\n",
    "\n",
    "vdat = fits.getdata(table_ext + 'VirgoCatalog.fits')\n",
    "sdat = fits.getdata(nsapath +'Simard3ToNSA.fits')\n",
    "\n",
    "virgocat = SkyCoord(vdat.RA*u.degree,vdat.DEC*u.degree,frame='icrs')\n",
    "#simardcat = SkyCoord(sdat._RA*u.degree,sdat._DE*u.degree,frame='icrs')\n",
    "\n",
    "index,dist2d,dist3d = virgocat.match_to_catalog_sky(simardcat)\n",
    "\n",
    "# only keep matches with matched RA and Dec w/in 1 arcsec\n",
    "matchflag = dist2d.degree < 2./3600\n",
    "\n",
    "# write out line-matched catalog\n",
    "outfile=table_ext + 'Simard3toNSA_virgo.fits'\n",
    "matchedarray1=np.zeros(len(vdat),dtype=sdat.dtype)\n",
    "matchedarray1[matchflag] = sdat[index[matchflag]]\n",
    "fits.writeto(outfile,matchedarray1,clobber=True)"
   ]
  },
  {
   "cell_type": "code",
   "execution_count": null,
   "metadata": {
    "collapsed": false
   },
   "outputs": [],
   "source": [
    "#Line match with GALEX/WISE\n",
    "#ALL SKY CATALOG\n",
    "\n",
    "#initializes record array\n",
    "infile = gswlpath + 'GSWLC-A1.dat'\n",
    "catA1 = np.loadtxt(infile, dtype = {'names':('objID','glxID','plate','MJD','fiberID','RA','DEC','z','chisq','logMstar','err_logMstar','logSFR_SED','err_logSFR_SED','A_FUV','err_A_FUV','A_B','err_A_B','A_V','err_A_V','flag_SED','UV_survey','logSFR_MIR_AW','flag_wise','logSFR_MIR_UW','flag_unwise','flag_mgs'), 'formats': (np.int,# ObjID\n",
    "                                   np.int,\n",
    "                                   np.int,\n",
    "                                   np.int,\n",
    "                                   np.int,# fiberID\n",
    "                                   np.float,\n",
    "                                   np.float,\n",
    "                                   np.float,\n",
    "                                   np.float,\n",
    "                                   np.float,\n",
    "                                   np.float,\n",
    "                                   np.float, #log SFR_SED\n",
    "                                   np.float,\n",
    "                                   np.float, #A_FUV\n",
    "                                   np.float,\n",
    "                                   np.float,\n",
    "                                   np.float,\n",
    "                                   np.float,\n",
    "                                   np.float,\n",
    "                                   np.int, #flag_sed\n",
    "                                   np.int, #UV surve\n",
    "                                   np.float,\n",
    "                                   np.int,\n",
    "                                   np.float,\n",
    "                                   np.int,\n",
    "                                   np.int)})\n",
    "\n",
    "\n",
    "#matching time!\n",
    "virgocat = SkyCoord(vdat.RA*u.degree,vdat.DEC*u.degree,frame='icrs')\n",
    "samircat = SkyCoord(catA1['RA']*u.degree,catA1['DEC']*u.degree,frame='icrs')\n",
    "index,dist2d,dist3d = virgocat.match_to_catalog_sky(samircat)\n",
    "\n",
    "# only keep matches with matched RA and Dec w/in 1 arcsec\n",
    "matchflag = dist2d.degree < 2./3600\n",
    "\n",
    "# write out line-matched catalog\n",
    "outfile = table_ext + 'GALEX-WISE-allsky_virgo.fits'\n",
    "matchedarray1=np.zeros(len(vdat),dtype=catA1.dtype)\n",
    "matchedarray1[matchflag] = catA1[index[matchflag]]\n",
    "fits.writeto(outfile,matchedarray1,clobber=True)\n"
   ]
  },
  {
   "cell_type": "code",
   "execution_count": null,
   "metadata": {
    "collapsed": false
   },
   "outputs": [],
   "source": [
    "#MID SKY\n",
    "\n",
    "#initializes record array\n",
    "infile = gswlpath + 'GSWLC-M1.dat'\n",
    "catA1 = np.loadtxt(infile, dtype = {'names':('objID','glxID','plate','MJD','fiberID','RA','DEC','z','chisq','logMstar','err_logMstar','logSFR_SED','err_logSFR_SED','A_FUV','err_A_FUV','A_B','err_A_B','A_V','err_A_V','flag_SED','UV_survey','logSFR_MIR_AW','flag_wise','logSFR_MIR_UW','flag_unwise','flag_mgs'), 'formats': (np.int,# ObjID\n",
    "                                   np.int,\n",
    "                                   np.int,\n",
    "                                   np.int,\n",
    "                                   np.int,# fiberID\n",
    "                                   np.float,\n",
    "                                   np.float,\n",
    "                                   np.float,\n",
    "                                   np.float,\n",
    "                                   np.float,\n",
    "                                   np.float,\n",
    "                                   np.float, #log SFR_SED\n",
    "                                   np.float,\n",
    "                                   np.float, #A_FUV\n",
    "                                   np.float,\n",
    "                                   np.float,\n",
    "                                   np.float,\n",
    "                                   np.float,\n",
    "                                   np.float,\n",
    "                                   np.int, #flag_sed\n",
    "                                   np.int, #UV surve\n",
    "                                   np.float,\n",
    "                                   np.int,\n",
    "                                   np.float,\n",
    "                                   np.int,\n",
    "                                   np.int)})\n",
    "\n",
    "\n",
    "#matching time!\n",
    "virgocat = SkyCoord(vdat.RA*u.degree,vdat.DEC*u.degree,frame='icrs')\n",
    "samircat = SkyCoord(catA1['RA']*u.degree,catA1['DEC']*u.degree,frame='icrs')\n",
    "index,dist2d,dist3d = virgocat.match_to_catalog_sky(samircat)\n",
    "\n",
    "# only keep matches with matched RA and Dec w/in 1 arcsec\n",
    "matchflag = dist2d.degree < 2./3600\n",
    "\n",
    "# write out line-matched catalog\n",
    "outfile= table_ext + 'GALEX-WISE-mid_virgo.fits'\n",
    "matchedarray1=np.zeros(len(vdat),dtype=catA1.dtype)\n",
    "matchedarray1[matchflag] = catA1[index[matchflag]]\n",
    "fits.writeto(outfile,matchedarray1,clobber=True)\n"
   ]
  },
  {
   "cell_type": "code",
   "execution_count": null,
   "metadata": {
    "collapsed": false
   },
   "outputs": [],
   "source": [
    "#Line match with GALEX/WISE\n",
    "#DEEP SKY CATALOG\n",
    "\n",
    "#initializes record array\n",
    "infile = table_ext + 'GSWLC-D1.dat'\n",
    "catA1 = np.loadtxt(infile, dtype = {'names':('objID','glxID','plate','MJD','fiberID','RA','DEC','z','chisq','logMstar','err_logMstar','logSFR_SED','err_logSFR_SED','A_FUV','err_A_FUV','A_B','err_A_B','A_V','err_A_V','flag_SED','UV_survey','logSFR_MIR_AW','flag_wise','logSFR_MIR_UW','flag_unwise','flag_mgs'), 'formats': (np.int,# ObjID\n",
    "                                   np.int,\n",
    "                                   np.int,\n",
    "                                   np.int,\n",
    "                                   np.int,# fiberID\n",
    "                                   np.float,\n",
    "                                   np.float,\n",
    "                                   np.float,\n",
    "                                   np.float,\n",
    "                                   np.float,\n",
    "                                   np.float,\n",
    "                                   np.float, #log SFR_SED\n",
    "                                   np.float,\n",
    "                                   np.float, #A_FUV\n",
    "                                   np.float,\n",
    "                                   np.float,\n",
    "                                   np.float,\n",
    "                                   np.float,\n",
    "                                   np.float,\n",
    "                                   np.int, #flag_sed\n",
    "                                   np.int, #UV surve\n",
    "                                   np.float,\n",
    "                                   np.int,\n",
    "                                   np.float,\n",
    "                                   np.int,\n",
    "                                   np.int)})\n",
    "\n",
    "\n",
    "#matching time!\n",
    "virgocat = SkyCoord(vdat.RA*u.degree,vdat.DEC*u.degree,frame='icrs')\n",
    "samircat = SkyCoord(catA1['RA']*u.degree,catA1['DEC']*u.degree,frame='icrs')\n",
    "index,dist2d,dist3d = virgocat.match_to_catalog_sky(samircat)\n",
    "\n",
    "# only keep matches with matched RA and Dec w/in 1 arcsec\n",
    "matchflag = dist2d.degree < 2./3600\n",
    "\n",
    "# write out line-matched catalog\n",
    "outfile= table_ext + 'GALEX-WISE-deepsky_virgo.fits'\n",
    "matchedarray1=np.zeros(len(vdat),dtype=catA1.dtype)\n",
    "matchedarray1[matchflag] = catA1[index[matchflag]]\n",
    "fits.writeto(outfile,matchedarray1,clobber=True)\n",
    "\n"
   ]
  },
  {
   "cell_type": "code",
   "execution_count": null,
   "metadata": {
    "collapsed": false
   },
   "outputs": [],
   "source": [
    "#Line Match with AGC catalog\n",
    "\n",
    "vdat = fits.getdata(table_ext +'VirgoCatalog.fits')\n",
    "agcdat = fits.getdata(agcpath + 'agctotal.fits')\n",
    "\n",
    "virgocat = SkyCoord(vdat.RA*u.degree,vdat.DEC*u.degree,frame='icrs')\n",
    "agccat = SkyCoord(agcdat.RA*u.degree,agcdat.DEC*u.degree,frame='icrs')\n",
    "\n",
    "index,dist2d,dist3d = virgocat.match_to_catalog_sky(agccat)\n",
    "\n",
    "# only keep matches with matched RA and Dec w/in 1 arcsec\n",
    "matchflag = dist2d.degree < 2./3600\n",
    "\n",
    "# write out line-matched catalog\n",
    "outfile= table_ext + 'AGCtoNSA_virgo.fits'\n",
    "matchedarray1=np.zeros(len(vdat),dtype=agcdat.dtype)\n",
    "matchedarray1[matchflag] = agcdat[index[matchflag]]\n",
    "fits.writeto(outfile,matchedarray1,clobber=True)"
   ]
  },
  {
   "cell_type": "code",
   "execution_count": null,
   "metadata": {
    "collapsed": true
   },
   "outputs": [],
   "source": [
    "# match to WISE catalog\n",
    "\n",
    "#Line Match with WISE Catalog\n",
    "vdat = fits.getdata(table_ext +'VirgoCatalog.fits')\n",
    "agcdat = fits.getdata(nsapath + 'nsa_v0_1_2_wise.fits')\n",
    "\n",
    "virgocat = SkyCoord(vdat.RA*u.degree,vdat.DEC*u.degree,frame='icrs')\n",
    "agccat = SkyCoord(agcdat.RA*u.degree,agcdat.DEC*u.degree,frame='icrs')\n",
    "\n",
    "index,dist2d,dist3d = virgocat.match_to_catalog_sky(agccat)\n",
    "\n",
    "# only keep matches with matched RA and Dec w/in 1 arcsec\n",
    "matchflag = dist2d.degree < 2./3600\n",
    "\n",
    "# write out line-matched catalog\n",
    "outfile= table_ext + 'WISE_virgo.fits'\n",
    "matchedarray1=np.zeros(len(vdat),dtype=agcdat.dtype)\n",
    "matchedarray1[matchflag] = agcdat[index[matchflag]]\n",
    "fits.writeto(outfile,matchedarray1,clobber=True)"
   ]
  },
  {
   "cell_type": "code",
   "execution_count": null,
   "metadata": {
    "collapsed": true
   },
   "outputs": [],
   "source": []
  },
  {
   "cell_type": "code",
   "execution_count": null,
   "metadata": {
    "collapsed": true
   },
   "outputs": [],
   "source": []
  },
  {
   "cell_type": "code",
   "execution_count": null,
   "metadata": {
    "collapsed": true
   },
   "outputs": [],
   "source": []
  }
 ],
 "metadata": {
  "anaconda-cloud": {},
  "kernelspec": {
   "display_name": "Python [py27]",
   "language": "python",
   "name": "Python [py27]"
  },
  "language_info": {
   "codemirror_mode": {
    "name": "ipython",
    "version": 2
   },
   "file_extension": ".py",
   "mimetype": "text/x-python",
   "name": "python",
   "nbconvert_exporter": "python",
   "pygments_lexer": "ipython2",
   "version": "2.7.12"
  }
 },
 "nbformat": 4,
 "nbformat_minor": 1
}
