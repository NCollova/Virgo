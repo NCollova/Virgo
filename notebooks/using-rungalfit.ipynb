{
 "cells": [
  {
   "cell_type": "markdown",
   "metadata": {},
   "source": [
    "# Goal # \n",
    "\n",
    "The goal of this notebook is to show you how to use the galfit class in rungalfit.py\n",
    "\n",
    "### Required Modules ###\n",
    "\n",
    "pyds9"
   ]
  },
  {
   "cell_type": "code",
   "execution_count": 1,
   "metadata": {
    "collapsed": false
   },
   "outputs": [
    {
     "name": "stdout",
     "output_type": "stream",
     "text": [
      "\n",
      "An instance of ds9 was found to be running before we could\n",
      "start the 'xpans' name server. You will need to perform a\n",
      "bit of manual intervention in order to connect this\n",
      "existing ds9 to Python.\n",
      "\n",
      "For ds9 version 5.7 and beyond, simply register the\n",
      "existing ds9 with the xpans name server by selecting the\n",
      "ds9 File->XPA->Connect menu option. Your ds9 will now be\n",
      "fully accessible to pyds9 (e.g., it appear in the list\n",
      "returned by the ds9_targets() routine).\n",
      "\n",
      "For ds9 versions prior to 5.7, you cannot (easily) register\n",
      "with xpans, but you can view ds9's File->XPA Information\n",
      "menu option and pass the value associated with XPA_METHOD\n",
      "directly to the Python DS9() constructor, e.g.:\n",
      "\n",
      "    d = DS9('a000101:12345')\n",
      "\n",
      "The good news is that new instances of ds9 will be\n",
      "registered with xpans, and will be known to ds9_targets()\n",
      "and the DS9() constructor.\n",
      "\n"
     ]
    }
   ],
   "source": [
    "import os\n",
    "import pyds9\n"
   ]
  },
  {
   "cell_type": "code",
   "execution_count": 2,
   "metadata": {
    "collapsed": true
   },
   "outputs": [],
   "source": [
    "os.sys.path.append('/Users/rfinn/github/Virgo/programs/')"
   ]
  },
  {
   "cell_type": "code",
   "execution_count": 3,
   "metadata": {
    "collapsed": true
   },
   "outputs": [],
   "source": [
    "from rungalfit import *"
   ]
  },
  {
   "cell_type": "code",
   "execution_count": 21,
   "metadata": {
    "collapsed": false
   },
   "outputs": [],
   "source": [
    "# define image properties\n",
    "galname = 'test'\n",
    "image = 'testimage.fits'\n",
    "sigma_image = 'testimage-sigma.fits'\n",
    "psf_image = 'testpsf.fits'\n",
    "psf_oversampling = 1\n",
    "mask_image = 'testimage_mask.fits'\n",
    "xminfit=1\n",
    "yminfit=1\n",
    "xmaxfit=100\n",
    "ymaxfit=100\n",
    "convolution_size=100\n",
    "magzp=20.\n",
    "pscale=2.5\n",
    "convflag=1 # apply psf convolution\n",
    "constraintflag=1 # add a constraint file?\n",
    "fitallflag=0\n",
    "ncomp=1"
   ]
  },
  {
   "cell_type": "code",
   "execution_count": 22,
   "metadata": {
    "collapsed": true
   },
   "outputs": [],
   "source": [
    "# define first guess sersic parameters for galaxy \n",
    "xc=50\n",
    "yc=50\n",
    "nsersic = 2\n",
    "mag = 7\n",
    "Re = 10.\n",
    "BA = .8\n",
    "PA = 0"
   ]
  },
  {
   "cell_type": "code",
   "execution_count": 8,
   "metadata": {
    "collapsed": false
   },
   "outputs": [
    {
     "name": "stdout",
     "output_type": "stream",
     "text": [
      "***%%%%%%%%%%%%%%%%%\n",
      "inside galfit class\n",
      "1 100 1 100 100\n",
      "1 100 1 100 100\n",
      "psf_image =  testpsf.fits\n",
      "self.fitall =  0\n",
      "***%%%%%%%%%%%%%%%%%\n"
     ]
    }
   ],
   "source": [
    "gal1 = galfit(galname=galname,image=image,sigma_image=sigma_image,psf_image=psf_image,psf_oversampling=psf_oversampling,mask_image=mask_image,xminfit=xminfit,yminfit=yminfit,xmaxfit=xmaxfit,ymaxfit=ymaxfit,convolution_size=convolution_size,magzp=magzp,pscale=pscale,convflag=convflag,constraintflag=constraintflag,fitallflag=fitallflag,ncomp=ncomp)"
   ]
  },
  {
   "cell_type": "markdown",
   "metadata": {},
   "source": [
    "## Create an input file for galfit ##"
   ]
  },
  {
   "cell_type": "code",
   "execution_count": 23,
   "metadata": {
    "collapsed": false
   },
   "outputs": [],
   "source": [
    "# create output names\n",
    "gal1.create_output_names()\n",
    "gal1.open_galfit_input()\n",
    "gal1.write_image_params()\n",
    "gal1.add_simple_sersic_object(1,'sersic',xc,yc,mag,Re,nsersic,BA,PA)\n",
    "gal1.set_sky(0)\n",
    "gal1.write_sky(2)\n",
    "gal1.close_input_file()"
   ]
  },
  {
   "cell_type": "code",
   "execution_count": null,
   "metadata": {
    "collapsed": true
   },
   "outputs": [],
   "source": []
  }
 ],
 "metadata": {
  "kernelspec": {
   "display_name": "Python [default]",
   "language": "python",
   "name": "python2"
  },
  "language_info": {
   "codemirror_mode": {
    "name": "ipython",
    "version": 2
   },
   "file_extension": ".py",
   "mimetype": "text/x-python",
   "name": "python",
   "nbconvert_exporter": "python",
   "pygments_lexer": "ipython2",
   "version": "2.7.13"
  }
 },
 "nbformat": 4,
 "nbformat_minor": 2
}
