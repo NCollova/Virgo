{
 "cells": [
  {
   "cell_type": "markdown",
   "metadata": {},
   "source": [
    "## Kelly's Advanced Project ##\n",
    "\n",
    "\n",
    "### Project Goals ###\n",
    "\n",
    "* Review the literature on Virgo filaments - what has been done already?\n",
    "* identify galaxies in the filaments surrounding the Virgo Cluster\n",
    "    * this will require an analysis of their redshifts\n",
    "* make a catalog that characterizes their\n",
    "    * stellar mass\n",
    "    * star formation rate from 22-micron WISE flux and GALEX UV flux\n",
    "    * bulge-to-total ratio\n",
    "    * disk scale length\n",
    "* make a poster showing SDSS color images of filament galaxies\n",
    "* compile other information on these galaxies that you will get from the literature\n",
    "    * existing Halpha observations\n",
    "    * radio observations\n",
    "* compare galaxy properties to matched field and cluster samples\n",
    "    * create a matched field sample\n",
    "    * use Becky's Virgo cluster sample\n",
    "* make a plot of SFR vs stellar mass for these galaxies in comparison to field and cluster samples.\n",
    "* prepare proposal to get Halpha imaging of Virgo filament galaxies\n",
    "\n",
    "### To do 9/26 ###\n",
    "\n",
    "* get python 2 installed\n",
    "* read in NSA catalog\n",
    "* make a plot showing the region around Virgo, showing galaxies with:\n",
    "    * raflag = (nsa.RA > 150.) & (nsa.RA < 220.) \n",
    "    * decflag= (nsa.DEC > -10.) & (nsa.DEC < 50.) \n",
    "    * velflag = (nsa.ZDIST*3.e5 > 1000.) & (nsa.ZDIST*3.e5 < 3000.)\n",
    "    * vflag = raflag & decflag & velflag\n",
    "* color-code points according to recession velocity"
   ]
  },
  {
   "cell_type": "code",
   "execution_count": null,
   "metadata": {
    "collapsed": true
   },
   "outputs": [],
   "source": []
  }
 ],
 "metadata": {
  "kernelspec": {
   "display_name": "Python 2",
   "language": "python",
   "name": "python2"
  },
  "language_info": {
   "codemirror_mode": {
    "name": "ipython",
    "version": 2
   },
   "file_extension": ".py",
   "mimetype": "text/x-python",
   "name": "python",
   "nbconvert_exporter": "python",
   "pygments_lexer": "ipython2",
   "version": "2.7.11"
  }
 },
 "nbformat": 4,
 "nbformat_minor": 0
}
