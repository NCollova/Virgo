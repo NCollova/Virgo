{
 "cells": [
  {
   "cell_type": "markdown",
   "metadata": {},
   "source": [
    "Goal:  \n",
    "Combine the NSAYang catalog with the Simard catalog to include sersic fits\n",
    "\n",
    "Required Files:\n",
    "* The NASA Sloan Atlas catalog (nsa_v0_1_2.fits) found here http://www.nsatlas.org/data\n",
    "* asu.fit\n",
    "\n",
    "Obtaining asu.fit:\n",
    "1. http://vizier.cfa.harvard.edu/viz-bin/VizieR?-source=J/ApJS/196/11\n",
    "2. Check all boxes and click \"Join selected tables\"\n",
    "3. Scroll down and check \"ALL col\" then uncheck \"All\", \"Sloan\", and \"DR7\"\n",
    "4. Click any of the submit buttons\n",
    "5. On the left in the \"Preferences\" box change \"max\" to unlimited, \"HTML Table\" to \"FITS (ascii) table, and then click submit\n",
    "\n",
    "Notes:\n",
    "* All entries in asu.fit are strings. Can be changed to floats using np.astype(np.float32)"
   ]
  },
  {
   "cell_type": "code",
   "execution_count": 7,
   "metadata": {
    "collapsed": true
   },
   "outputs": [],
   "source": [
    "import csv\n",
    "import numpy as np\n",
    "from astropy.io import fits\n",
    "import fnmatch\n",
    "import time\n",
    "import argparse"
   ]
  },
  {
   "cell_type": "code",
   "execution_count": 8,
   "metadata": {
    "collapsed": false
   },
   "outputs": [],
   "source": [
    "def findnearest(x1,y1,x2,y2,delta):\n",
    "    matchflag=1\n",
    "    nmatch=0\n",
    "    d=np.sqrt((x1-x2)**2 + (y1-y2)**2)\n",
    "    index=np.arange(len(d))\n",
    "    t=index[d<delta]\n",
    "    matches=t\n",
    "    if len(matches) > 0:\n",
    "        nmatch=len(matches)\n",
    "        if nmatch > 1:\n",
    "            imatch=index[(d == min(d[t]))]\n",
    "        else:\n",
    "            imatch=matches[0]\n",
    "    else:\n",
    "        imatch = 0\n",
    "        matchflag = 0\n",
    "\n",
    "    return imatch, matchflag,nmatch\n"
   ]
  },
  {
   "cell_type": "code",
   "execution_count": null,
   "metadata": {
    "collapsed": true
   },
   "outputs": [],
   "source": [
    "parser = argparse.ArgumentParser(description ='Match the NSA catalog with the Simard catalogs')\n",
    "parser.add_argument('--s', dest = 's', default = False, action = 'store_true', help = 'Use shortened version of NSA catalog (nsa_uat.fits)')\n",
    "args = parser.parse_args()"
   ]
  },
  {
   "cell_type": "code",
   "execution_count": 9,
   "metadata": {
    "collapsed": false
   },
   "outputs": [],
   "source": [
    "asu1 = fits.getdata('asu.fit',1)\n",
    "asu2 = fits.getdata('asu.fit',2)\n",
    "asu3 = fits.getdata('asu.fit',3)\n",
    "if arg.s:\n",
    "    nsadat = fits.getdata('nsa_uat.fits')\n",
    "else:\n",
    "    nsadat = fits.getdata('nsa_v0_1_2.fits')"
   ]
  },
  {
   "cell_type": "code",
   "execution_count": 10,
   "metadata": {
    "collapsed": false
   },
   "outputs": [],
   "source": [
    "for i in range(len(asu1._DE)):\n",
    "    asu1._DE[i] = asu1._DE[i].rstrip(\"\\r\").rstrip(\"+\")"
   ]
  },
  {
   "cell_type": "code",
   "execution_count": 13,
   "metadata": {
    "collapsed": false
   },
   "outputs": [
    {
     "name": "stdout",
     "output_type": "stream",
     "text": [
      "(array([  2015, 879727]), 1, 2)\n",
      "Done matching\n",
      "--- 1055.10033703 seconds ---\n",
      "Done\n",
      "--- 1111.60588694 seconds ---\n"
     ]
    }
   ],
   "source": [
    "matchRadius=0.1/3600\n",
    "start_time = time.time()\n",
    "imatch=np.zeros(len(nsadat.RA),'i')\n",
    "matchflag=np.zeros(len(nsadat.RA),'bool')\n",
    "nmatch=np.zeros(len(nsadat.RA),'i')\n",
    "RA = asu1._RA.astype(np.float32)\n",
    "DEC = asu1._DE.astype(np.float32)\n",
    "for i in range(len(nsadat.RA)):\n",
    "    t = findnearest(nsadat.RA[i],nsadat.DEC[i],RA,DEC,matchRadius)\n",
    "    try:\n",
    "        imatch[i],matchflag[i],nmatch[i]  =  t\n",
    "    except ValueError:\n",
    "        print t\n",
    "        d1 = abs(nsadat.Z[i] - asu1.z[t[0][0]].astype(np.float32))\n",
    "        d2 = abs(nsadat.Z[i] - asu1.z[t[0][1]].astype(np.float32))\n",
    "        if d1 < d2:\n",
    "            imatch[i],matchflag[i],nmatch[i] = t[0][0],t[1],t[2]\n",
    "        else:\n",
    "            imatch[i],matchflag[i],nmatch[i] = t[0][1],t[1],t[2]\n",
    "print \"Done matching\"  \n",
    "print(\"--- %s seconds ---\" % (time.time() - start_time))\n",
    "if arg.s:\n",
    "    outfile='Simard1ToNSA_uat.fits'\n",
    "else:\n",
    "    outfile='Simard1ToNSA.fits'\n",
    "matchedarray1=np.zeros(len(nsadat),dtype=asu1.dtype)\n",
    "matchedarray1[matchflag] = asu1[imatch[matchflag]]\n",
    "new1 = []\n",
    "for i in range(len(matchedarray1)): # row\n",
    "    for j in range(len(matchedarray1[0])): #column\n",
    "        if len(new1)<62:\n",
    "            new1.append([])\n",
    "        new1[j].append(matchedarray1[i][j])\n",
    "headers1 = asu1.names\n",
    "i = 0\n",
    "cols = []\n",
    "for n in headers1:\n",
    "    colnum = fits.Column(name=n,format='A10',array=new1[i])\n",
    "    cols.append(colnum)\n",
    "    i = i+1\n",
    "newcol = fits.ColDefs(cols)\n",
    "hdu = fits.BinTableHDU.from_columns(newcol)\n",
    "hdu.writeto(outfile,clobber=True)\n",
    "\n",
    "if arg.s:\n",
    "    outfile='Simard2ToNSA_uat.fits'\n",
    "else:\n",
    "    outfile='Simard2ToNSA.fits'\n",
    "matchedarray2=np.zeros(len(nsadat),dtype=asu2.dtype)\n",
    "matchedarray2[matchflag] = asu2[imatch[matchflag]]\n",
    "new2 = []\n",
    "for i in range(len(matchedarray2)): # row\n",
    "    for j in range(len(matchedarray2[0])): #column\n",
    "        if len(new2)<62:\n",
    "            new2.append([])\n",
    "        new2[j].append(matchedarray2[i][j])\n",
    "headers2 = asu2.names\n",
    "i = 0\n",
    "cols = []\n",
    "for n in headers2:\n",
    "    colnum = fits.Column(name=n,format='A10',array=new2[i])\n",
    "    cols.append(colnum)\n",
    "    i = i+1\n",
    "newcol = fits.ColDefs(cols)\n",
    "hdu = fits.BinTableHDU.from_columns(newcol)\n",
    "hdu.writeto(outfile,clobber=True)\n",
    "\n",
    "if arg.s:\n",
    "    outfile='Simard3ToNSA_uat.fits'\n",
    "else:\n",
    "    outfile='Simard3ToNSA.fits'\n",
    "matchedarray3=np.zeros(len(nsadat),dtype=asu3.dtype)\n",
    "matchedarray3[matchflag] = asu3[imatch[matchflag]]\n",
    "new3 = []\n",
    "for i in range(len(matchedarray3)): # row\n",
    "    for j in range(len(matchedarray3[0])): #column\n",
    "        if len(new3)<62:\n",
    "            new3.append([])\n",
    "        new3[j].append(matchedarray3[i][j])\n",
    "headers3 = asu3.names\n",
    "i = 0\n",
    "cols = []\n",
    "for n in headers3:\n",
    "    colnum = fits.Column(name=n,format='A10',array=new3[i])\n",
    "    cols.append(colnum)\n",
    "    i = i+1\n",
    "newcol = fits.ColDefs(cols)\n",
    "hdu = fits.BinTableHDU.from_columns(newcol)\n",
    "hdu.writeto(outfile,clobber=True)\n",
    "print \"Done\"\n",
    "print(\"--- %s seconds ---\" % (time.time() - start_time))"
   ]
  },
  {
   "cell_type": "code",
   "execution_count": null,
   "metadata": {
    "collapsed": true
   },
   "outputs": [],
   "source": []
  }
 ],
 "metadata": {
  "anaconda-cloud": {},
  "kernelspec": {
   "display_name": "Python [conda env:astroconda]",
   "language": "python",
   "name": "conda-env-astroconda-py"
  },
  "language_info": {
   "codemirror_mode": {
    "name": "ipython",
    "version": 2
   },
   "file_extension": ".py",
   "mimetype": "text/x-python",
   "name": "python",
   "nbconvert_exporter": "python",
   "pygments_lexer": "ipython2",
   "version": "2.7.11"
  }
 },
 "nbformat": 4,
 "nbformat_minor": 0
}
