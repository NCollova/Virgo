{
 "cells": [
  {
   "cell_type": "code",
   "execution_count": 1,
   "metadata": {
    "collapsed": false
   },
   "outputs": [
    {
     "name": "stderr",
     "output_type": "stream",
     "text": [
      "//anaconda/lib/python2.7/site-packages/matplotlib/font_manager.py:273: UserWarning: Matplotlib is building the font cache using fc-list. This may take a moment.\n",
      "  warnings.warn('Matplotlib is building the font cache using fc-list. This may take a moment.')\n"
     ]
    }
   ],
   "source": [
    "import numpy as np\n",
    "from matplotlib import pyplot as plt\n",
    "%matplotlib inline\n",
    "from astropy.io import fits\n",
    "from astropy.coordinates import SkyCoord\n",
    "from astropy import units as u\n",
    "\n",
    "\n",
    "def findnearest(x1,y1,x2,y2,delta):#use where command\n",
    "    matchflag=1\n",
    "    nmatch=0\n",
    "    d=np.sqrt((x1-x2)**2 + (y1-y2)**2)#x2 and y2 are arrays\n",
    "    index=np.arange(len(d))\n",
    "    t=index[d<delta]\n",
    "    matches=t\n",
    "    if len(matches) > 0:\n",
    "        nmatch=len(matches)\n",
    "        if nmatch > 1:\n",
    "            imatch=index[(d == min(d[t]))]\n",
    "        else:\n",
    "            imatch=matches[0]\n",
    "    else:\n",
    "        imatch = 0\n",
    "        matchflag = 0\n",
    "\n",
    "    return imatch, matchflag,nmatch\n"
   ]
  },
  {
   "cell_type": "code",
   "execution_count": 6,
   "metadata": {
    "collapsed": false
   },
   "outputs": [
    {
     "name": "stdout",
     "output_type": "stream",
     "text": [
      "1\n"
     ]
    },
    {
     "name": "stderr",
     "output_type": "stream",
     "text": [
      "/anaconda/lib/python2.7/site-packages/ipykernel/__main__.py:16: DeprecationWarning: unorderable dtypes; returning scalar but in the future this will be an error\n"
     ]
    }
   ],
   "source": [
    "nsafile='/Users/rfinn/research/NSA/nsa_v0_1_2.fits'\n",
    "nsa=fits.getdata(nsafile)\n",
    "\n",
    "# read in WISE catalog\n",
    "wisefile='/Users/rfinn/research/NSA/nsa_v0_1_2_wise.fits'\n",
    "wise=fits.getdata(wisefile)\n",
    "\n",
    "# read in John's stellar masses\n",
    "massfile='/Users/rfinn/research/NSA/nsa_v1_2_fsps_v2.4_miles_chab_charlot_sfhgrid01.fits'\n",
    "jmass=fits.getdata(massfile)\n",
    "\n",
    "# read in simard catalogs\n",
    "# table 1 has n=4 bulge plus disk\n",
    "simardfile = '/Users/rfinn/research/NSA/Simard1ToNSA.fits'\n",
    "gim2d = fits.getdata(simardfile)\n",
    "gim2dflag = gim2d._RAJ2000 > -99\n",
    "print np.sum(gim2dflag)"
   ]
  },
  {
   "cell_type": "code",
   "execution_count": 8,
   "metadata": {
    "collapsed": false
   },
   "outputs": [
    {
     "data": {
      "text/plain": [
       "array(['0.0617', '', '', ..., '', '', ''], \n",
       "      dtype='|S10')"
      ]
     },
     "execution_count": 8,
     "metadata": {},
     "output_type": "execute_result"
    }
   ],
   "source": [
    "gim2d.z"
   ]
  },
  {
   "cell_type": "code",
   "execution_count": null,
   "metadata": {
    "collapsed": true
   },
   "outputs": [],
   "source": []
  }
 ],
 "metadata": {
  "kernelspec": {
   "display_name": "Python 2",
   "language": "python",
   "name": "python2"
  },
  "language_info": {
   "codemirror_mode": {
    "name": "ipython",
    "version": 2
   },
   "file_extension": ".py",
   "mimetype": "text/x-python",
   "name": "python",
   "nbconvert_exporter": "python",
   "pygments_lexer": "ipython2",
   "version": "2.7.11"
  }
 },
 "nbformat": 4,
 "nbformat_minor": 0
}
