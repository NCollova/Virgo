{
 "cells": [
  {
   "cell_type": "markdown",
   "metadata": {},
   "source": [
    "## Converting to Supergalactic Coordinates ##\n",
    "\n",
    "we describe how we convert from RA, DEC, and redshift to SGX,SGY, and SGZ.\n",
    "\n",
    "We try to reproduce the figures shown in Kim+2016"
   ]
  },
  {
   "cell_type": "markdown",
   "metadata": {},
   "source": [
    "### load modules ###"
   ]
  },
  {
   "cell_type": "code",
   "execution_count": 1,
   "metadata": {
    "collapsed": false
   },
   "outputs": [
    {
     "name": "stderr",
     "output_type": "stream",
     "text": [
      "//anaconda/envs/astroconda/lib/python2.7/site-packages/matplotlib/font_manager.py:273: UserWarning: Matplotlib is building the font cache using fc-list. This may take a moment.\n",
      "  warnings.warn('Matplotlib is building the font cache using fc-list. This may take a moment.')\n"
     ]
    }
   ],
   "source": [
    "import numpy as np\n",
    "from astropy.io import fits\n",
    "from astropy.coordinates import SkyCoord\n",
    "from astropy import units as u\n",
    "import os\n",
    "import sys\n",
    "from astropy.coordinates import ICRS, Galactic, FK4, FK5  # Low-level frames\n",
    "from astropy.coordinates import Angle, Latitude, Longitude  # Angles\n",
    "from mpl_toolkits.mplot3d import Axes3D\n",
    "from astropy.cosmology import WMAP9 as cosmo\n",
    "from astropy.constants import c\n",
    "%matplotlib inline"
   ]
  },
  {
   "cell_type": "markdown",
   "metadata": {},
   "source": [
    "### Read in NSA catalog ###"
   ]
  },
  {
   "cell_type": "code",
   "execution_count": 3,
   "metadata": {
    "collapsed": false
   },
   "outputs": [
    {
     "name": "stdout",
     "output_type": "stream",
     "text": [
      "Running on Rose's computer\n"
     ]
    }
   ],
   "source": [
    "#Get current path so program can tell if this is being run on Kelly's or Rose's computer\n",
    "mypath=os.getcwd()\n",
    "if mypath.find('rfinn') > -1:\n",
    "    print \"Running on Rose's computer\"\n",
    "    #agcfile='/Users/rfinn/idl/programs/idl_alfa/agctotal.sav'\n",
    "    gitpath='/Users/rfinn/github/'\n",
    "elif mypath.find('kelly') > -1:\n",
    "    print \"Running on Kellys's computer\"\n",
    "    gitpath='/Users/kellywhalen/Github/'\n",
    "\n",
    "\n",
    "#### READ IN DATA #####\n",
    "\n",
    "#NSA Table\n",
    "NSA_file = gitpath+'Virgo/tables/nsa_v0_1_2.fits'\n",
    "#NSA_file='/Users/rfinn/research/nsa/nsa_v0_1_2.fits'\n",
    "nsa = fits.getdata(NSA_file)\n",
    "nsa = nsa[0:21]\n",
    "nsadict=dict((a,b) for a,b in zip(nsa.NSAID,np.arange(len(nsa.NSAID))))"
   ]
  },
  {
   "cell_type": "markdown",
   "metadata": {},
   "source": [
    "### Select Galaxies in the vicinity of Virgo ###"
   ]
  },
  {
   "cell_type": "code",
   "execution_count": 52,
   "metadata": {
    "collapsed": false
   },
   "outputs": [],
   "source": [
    "raflag = (nsa.RA > 115.) & (nsa.RA < 240.)\n",
    "decflag= (nsa.DEC > -30.) & (nsa.DEC < 60.)\n",
    "velflag =  (nsa.Z*3.e5 < 3000.) # & (nsa.Z*3.e5 > 1000.) \n",
    "vflag = raflag & decflag & velflag \n",
    "\n",
    "#nsa = nsa[vflag]\n",
    "\n",
    "# define nsa RA and Dec as SkyCoord\n",
    "nsa_sc = SkyCoord(nsa.RA*u.degree, nsa.DEC*u.degree)\n"
   ]
  },
  {
   "cell_type": "markdown",
   "metadata": {},
   "source": [
    "##  FLOW MODEL  ##\n",
    "\n",
    "convert RA and DEC to galactic\n",
    "* l = galcoords.l.degree\n",
    "* b = galcoords.b.degree\n",
    "\n",
    "\n",
    "\n",
    "using mould+00 method to correct redshifts described in detail in appendix A\n",
    "\n",
    "http://adsabs.harvard.edu/abs/2000ApJ...529..786M\n"
   ]
  },
  {
   "cell_type": "markdown",
   "metadata": {},
   "source": [
    "### 1. Correct to centroid of the Local Group ###"
   ]
  },
  {
   "cell_type": "code",
   "execution_count": 53,
   "metadata": {
    "collapsed": true
   },
   "outputs": [],
   "source": [
    "# convert helio-centric velocity to units of km/s\n",
    "V_H = nsa.Z*c.to('km/s')\n",
    "\n",
    "# 1. correction of observed heliocentric velocity to centroid of local group\n",
    "# VLG = VH - 79 cos l cos b + 296 sin l cos b - 36 sin b\n",
    "\n",
    "V_LG = - 79.*u.km/u.second*np.cos(nsa_sc.galactic.l.radian)*np.cos(nsa_sc.galactic.b.radian) + 296.*u.km/u.second*np.sin(nsa_sc.galactic.l.radian)*np.cos(nsa_sc.galactic.b.radian) - 36.*u.km/u.second*np.sin(nsa_sc.galactic.b.radian)\n"
   ]
  },
  {
   "cell_type": "markdown",
   "metadata": {},
   "source": [
    "### 2. Correction for Virgo infall"
   ]
  },
  {
   "cell_type": "code",
   "execution_count": 54,
   "metadata": {
    "collapsed": true
   },
   "outputs": [],
   "source": [
    "# from Mould+2000, ApJ, 529, 786\n",
    "# not sure if we are using this equation exactly right\n",
    "\n",
    "V_fid = 200.*u.km/u.second # infall of LG into Virgo?\n",
    "# Virgo coordinates given by Mould+2000\n",
    "Virgo = SkyCoord('12h28m19s', '+12d40m00s', frame='fk5',equinox='J1950.') # epoch = 1950\n",
    "Virgo = Virgo.transform_to(FK5(equinox='J2000'))\n",
    "### need to fix this to use spherical distance\n",
    "#theta = np.sqrt((nsa_sc.ra.radian - Virgo.ra.radian)**2 + (nsa_sc.dec.radian - Virgo.dec.radian)**2)\n",
    "theta = Virgo.separation(nsa_sc).radian \n",
    "# cluster radius in deg\n",
    "gamma = 2.\n",
    "\n",
    "V_a = 1035.*u.km/u.second # recession vel of Virgo from Mould+2000\n",
    "#V_a = 1221.*u.km/u.second # recession vel of Virgo as calculated by Gianluca\n",
    "V_o = nsa.Z*c.to('km/s') + V_LG # recession velocities of the galaxies\n",
    "r_oa = np.sqrt(V_o**2 + V_a**2 - 2.*V_o*V_a*np.cos(theta))\n",
    "V_infall = V_fid*(np.cos(theta) + (V_o - V_a*np.cos(theta))/r_oa*(r_oa/V_a)**(1-gamma))"
   ]
  },
  {
   "cell_type": "markdown",
   "metadata": {},
   "source": [
    "### 3. Correction for GA infall ###"
   ]
  },
  {
   "cell_type": "code",
   "execution_count": 55,
   "metadata": {
    "collapsed": true
   },
   "outputs": [],
   "source": [
    "V_fid = 400.*u.km/u.second # infall of LG into Virgo?\n",
    "# GA coordinates given by Mould+2000\n",
    "GA = SkyCoord('13h20m00s', '+44d00m00s', frame='fk5',equinox='J1950.') # epoch = 1950\n",
    "GA = GA.transform_to(FK5(equinox='J2000'))\n",
    "theta = GA.separation(nsa_sc).radian\n",
    "#theta = np.sqrt((nsa_sc.ra.radian - GA.ra.radian)**2 + (nsa_sc.dec.radian - GA.dec.radian)**2)\n",
    "\n",
    "gamma = 2.\n",
    "V_a = 4380.*u.km/u.second # recession vel of Great Attractor from Mould+2000\n",
    "V_o = nsa.Z*c.to('km/s') + V_LG # recession velocities of the galaxies\n",
    "r_oa = np.sqrt(V_o**2 + V_a**2 - 2.*V_o*V_a*np.cos(theta))\n",
    "V_GA = V_fid*(np.cos(theta) + (V_o - V_a*np.cos(theta))/r_oa*(r_oa/V_a)**(1-gamma))"
   ]
  },
  {
   "cell_type": "markdown",
   "metadata": {},
   "source": [
    "### 4. Correction for Shapley supercluster infall. ###"
   ]
  },
  {
   "cell_type": "code",
   "execution_count": 56,
   "metadata": {
    "collapsed": true
   },
   "outputs": [],
   "source": [
    "# Final, correction cosmic velocity is\n",
    "#\n",
    "#  Vcosmic = VH + Vc,LG + Vin,Virgo + Vin,GA + Vin,Shap + ...\n",
    "\n",
    "# ## Tranforming to Supergalactic Coordinates##\n",
    "# \n",
    "# Looking to match the plots shown in Kim+2016\n",
    "# \n",
    "# https://arxiv.org/abs/1611.00437"
   ]
  },
  {
   "cell_type": "markdown",
   "metadata": {},
   "source": [
    "### Add up all of the corrections ###"
   ]
  },
  {
   "cell_type": "code",
   "execution_count": 57,
   "metadata": {
    "collapsed": false
   },
   "outputs": [],
   "source": [
    "#Plot of Virgo Cluster in galactic coordinates\n",
    "V_cosmic = V_H + V_LG + V_infall +V_GA\n",
    "V = V_cosmic"
   ]
  },
  {
   "cell_type": "markdown",
   "metadata": {},
   "source": [
    "### Convert to Supergalactic X, Y, and X coordinates###"
   ]
  },
  {
   "cell_type": "code",
   "execution_count": 58,
   "metadata": {
    "collapsed": true
   },
   "outputs": [],
   "source": [
    "#SGX = V/cosmo.H(0)*np.cos(nsa_sc.supergalactic.sgl.radian)*np.cos(nsa_sc.supergalactic.sgb.radian)\n",
    "#SGY = V/cosmo.H(0)*np.sin(nsa_sc.supergalactic.sgl.radian)*np.cos(nsa_sc.supergalactic.sgb.radian)\n",
    "#SGZ = V/cosmo.H(0)*np.sin(nsa_sc.supergalactic.sgb.radian)\n",
    "\n",
    "\n",
    "# using H0 = 74 to match Kim+2016 paper\n",
    "#H0 = 74.*u.km/u.second/u.Mpc\n",
    "H0 = 100.*u.km/u.second/u.Mpc #Kim's email\n",
    "SGX = V/H0*np.cos(nsa_sc.supergalactic.sgl.radian)*np.cos(nsa_sc.supergalactic.sgb.radian)\n",
    "SGY = V/H0*np.sin(nsa_sc.supergalactic.sgl.radian)*np.cos(nsa_sc.supergalactic.sgb.radian)\n",
    "SGZ = V/H0*np.sin(nsa_sc.supergalactic.sgb.radian)"
   ]
  },
  {
   "cell_type": "markdown",
   "metadata": {},
   "source": [
    "### Subtract the Position of Virgo ###"
   ]
  },
  {
   "cell_type": "code",
   "execution_count": 59,
   "metadata": {
    "collapsed": true
   },
   "outputs": [],
   "source": [
    "distance_to_virgo = 16.5*u.Mpc #Mpc\n",
    "SGX_Virgo = distance_to_virgo*np.cos(Virgo.supergalactic.sgl.radian)*np.cos(Virgo.supergalactic.sgb.radian)\n",
    "SGY_Virgo = distance_to_virgo*np.sin(Virgo.supergalactic.sgl.radian)*np.cos(Virgo.supergalactic.sgb.radian)\n",
    "SGZ_Virgo = distance_to_virgo*np.sin(Virgo.supergalactic.sgb.radian)\n",
    "\n",
    "# difference \n",
    "DSGX = SGX - SGX_Virgo\n",
    "DSGY = SGY - SGY_Virgo\n",
    "DSGZ = SGZ - SGZ_Virgo\n"
   ]
  },
  {
   "cell_type": "markdown",
   "metadata": {},
   "source": [
    "### Various cuts used by Kim+2016 ###"
   ]
  },
  {
   "cell_type": "code",
   "execution_count": 60,
   "metadata": {
    "collapsed": false
   },
   "outputs": [],
   "source": [
    "# don't use objects w/in 3.6 Mpc of Virgo (Kim+2016)http://localhost:8888/notebooks/VirgoCatalog.ipynb#\n",
    "\n",
    "dist = np.sqrt(DSGX**2 + DSGY**2 + DSGZ**2) \n",
    "dist = dist / u.Mpc\n",
    "\n",
    "distarray = np.array(dist)\n",
    "vdistflag = distarray < 50\n",
    "\n",
    "VirgoTestSet = nsa[vdistflag]\n"
   ]
  },
  {
   "cell_type": "raw",
   "metadata": {
    "collapsed": false
   },
   "source": [
    "print distarray"
   ]
  },
  {
   "cell_type": "markdown",
   "metadata": {},
   "source": []
  },
  {
   "cell_type": "code",
   "execution_count": 61,
   "metadata": {
    "collapsed": false
   },
   "outputs": [],
   "source": [
    "def VirgoCatalog(NSA_file):\n",
    "\n",
    "    #Load in all packages\n",
    "    import numpy as np\n",
    "    from astropy.io import fits\n",
    "    from astropy.coordinates import SkyCoord\n",
    "    from astropy import units as u\n",
    "    import os\n",
    "    import sys\n",
    "    from astropy.coordinates import ICRS, Galactic, FK4, FK5  # Low-level frames\n",
    "    from astropy.coordinates import Angle, Latitude, Longitude  # Angles\n",
    "    from mpl_toolkits.mplot3d import Axes3D\n",
    "    from astropy.cosmology import WMAP9 as cosmo\n",
    "    from astropy.constants import c\n",
    "    \n",
    "    #read in .fits file\n",
    "    nsa = fits.getdata(NSA_file)\n",
    "    nsadict=dict((a,b) for a,b in zip(nsa.NSAID,np.arange(len(nsa.NSAID))))\n",
    "    \n",
    "    #Pick out galaxies in the general region of virgo\n",
    "    raflag = (nsa.RA > 115.) & (nsa.RA < 240.)\n",
    "    decflag= (nsa.DEC > -30.) & (nsa.DEC < 60.)\n",
    "    velflag =  (nsa.Z*3.e5 < 3000.) \n",
    "    vflag = raflag & decflag & velflag \n",
    "\n",
    "    # define nsa RA and Dec as SkyCoord\n",
    "    nsa_sc = SkyCoord(nsa.RA*u.degree, nsa.DEC*u.degree)\n",
    "    \n",
    "    # convert helio-centric velocity to units of km/s\n",
    "    V_H = nsa.Z*c.to('km/s')\n",
    "\n",
    "    # 1. correction of observed heliocentric velocity to centroid of local group\n",
    "    # VLG = VH - 79 cos l cos b + 296 sin l cos b - 36 sin b\n",
    "\n",
    "    V_LG = - 79.*u.km/u.second*np.cos(nsa_sc.galactic.l.radian)*np.cos(nsa_sc.galactic.b.radian) + 296.*u.km/u.second*np.sin(nsa_sc.galactic.l.radian)*np.cos(nsa_sc.galactic.b.radian) - 36.*u.km/u.second*np.sin(nsa_sc.galactic.b.radian)\n",
    "\n",
    "    # from Mould+2000, ApJ, 529, 786\n",
    "    # not sure if we are using this equation exactly right\n",
    "\n",
    "    V_fid = 200.*u.km/u.second # infall of LG into Virgo?\n",
    "    # Virgo coordinates given by Mould+2000\n",
    "    Virgo = SkyCoord('12h28m19s', '+12d40m00s', frame='fk5',equinox='J1950.') # epoch = 1950\n",
    "    Virgo = Virgo.transform_to(FK5(equinox='J2000'))\n",
    "    ### need to fix this to use spherical distance\n",
    "    #theta = np.sqrt((nsa_sc.ra.radian - Virgo.ra.radian)**2 + (nsa_sc.dec.radian - Virgo.dec.radian)**2)\n",
    "    theta = Virgo.separation(nsa_sc).radian \n",
    "    # cluster radius in deg\n",
    "    gamma = 2.\n",
    "\n",
    "    V_a = 1035.*u.km/u.second # recession vel of Virgo from Mould+2000\n",
    "    #V_a = 1221.*u.km/u.second # recession vel of Virgo as calculated by Gianluca\n",
    "    V_o = nsa.Z*c.to('km/s') + V_LG # recession velocities of the galaxies\n",
    "    r_oa = np.sqrt(V_o**2 + V_a**2 - 2.*V_o*V_a*np.cos(theta))\n",
    "    V_infall = V_fid*(np.cos(theta) + (V_o - V_a*np.cos(theta))/r_oa*(r_oa/V_a)**(1-gamma))\n",
    "    \n",
    "    V_fid = 400.*u.km/u.second # infall of LG into Virgo?\n",
    "    # GA coordinates given by Mould+2000\n",
    "    GA = SkyCoord('13h20m00s', '+44d00m00s', frame='fk5',equinox='J1950.') # epoch = 1950\n",
    "    GA = GA.transform_to(FK5(equinox='J2000'))\n",
    "    theta = GA.separation(nsa_sc).radian\n",
    "    #theta = np.sqrt((nsa_sc.ra.radian - GA.ra.radian)**2 + (nsa_sc.dec.radian - GA.dec.radian)**2)\n",
    "\n",
    "    gamma = 2.\n",
    "    V_a = 4380.*u.km/u.second # recession vel of Great Attractor from Mould+2000\n",
    "    V_o = nsa.Z*c.to('km/s') + V_LG # recession velocities of the galaxies\n",
    "    r_oa = np.sqrt(V_o**2 + V_a**2 - 2.*V_o*V_a*np.cos(theta))\n",
    "    V_GA = V_fid*(np.cos(theta) + (V_o - V_a*np.cos(theta))/r_oa*(r_oa/V_a)**(1-gamma))\n",
    "    \n",
    "    #Add up all corrections\n",
    "    V_cosmic = V_H + V_LG + V_infall +V_GA\n",
    "    V = V_cosmic\n",
    "    \n",
    "    #Convert to supergalactic coordinates\n",
    "    # using H0 = 74 to match Kim+2016 paper\n",
    "    #H0 = 74.*u.km/u.second/u.Mpc\n",
    "    H0 = 100.*u.km/u.second/u.Mpc #Kim's email\n",
    "    SGX = V/H0*np.cos(nsa_sc.supergalactic.sgl.radian)*np.cos(nsa_sc.supergalactic.sgb.radian)\n",
    "    SGY = V/H0*np.sin(nsa_sc.supergalactic.sgl.radian)*np.cos(nsa_sc.supergalactic.sgb.radian)\n",
    "    SGZ = V/H0*np.sin(nsa_sc.supergalactic.sgb.radian)\n",
    "    \n",
    "    #Getting distance from virgo\n",
    "    distance_to_virgo = 16.5*u.Mpc #Mpc\n",
    "    SGX_Virgo = distance_to_virgo*np.cos(Virgo.supergalactic.sgl.radian)*np.cos(Virgo.supergalactic.sgb.radian)\n",
    "    SGY_Virgo = distance_to_virgo*np.sin(Virgo.supergalactic.sgl.radian)*np.cos(Virgo.supergalactic.sgb.radian)\n",
    "    SGZ_Virgo = distance_to_virgo*np.sin(Virgo.supergalactic.sgb.radian)\n",
    "\n",
    "    # difference \n",
    "    DSGX = SGX - SGX_Virgo\n",
    "    DSGY = SGY - SGY_Virgo\n",
    "    DSGZ = SGZ - SGZ_Virgo\n",
    "\n",
    "    dist = np.sqrt(DSGX**2 + DSGY**2 + DSGZ**2) \n",
    "    dist = dist / u.Mpc\n",
    "    \n",
    "    distarray = np.array(dist)\n",
    "    vdistflag = distarray < 50 #What is the radius of virgo??\n",
    "\n",
    "    VirgoTestSet = nsa[vdistflag]\n",
    "\n",
    "    fits.writeto('/Users/kellywhalen/Github/Virgo/tables/VirgoCatalog.fits', VirgoTestSet, clobber=True)"
   ]
  },
  {
   "cell_type": "code",
   "execution_count": 62,
   "metadata": {
    "collapsed": true
   },
   "outputs": [],
   "source": [
    "table_ext = '/Users/kellywhalen/Github/Virgo/tables/'"
   ]
  },
  {
   "cell_type": "code",
   "execution_count": 77,
   "metadata": {
    "collapsed": false
   },
   "outputs": [
    {
     "ename": "AttributeError",
     "evalue": "'numpy.ndarray' object has no attribute 'add_column'",
     "output_type": "error",
     "traceback": [
      "\u001b[0;31m---------------------------------------------------------------------------\u001b[0m",
      "\u001b[0;31mAttributeError\u001b[0m                            Traceback (most recent call last)",
      "\u001b[0;32m<ipython-input-77-3e34ac5bbff7>\u001b[0m in \u001b[0;36m<module>\u001b[0;34m()\u001b[0m\n\u001b[1;32m     16\u001b[0m \u001b[0mmatchedarray1\u001b[0m\u001b[0;34m=\u001b[0m\u001b[0mnp\u001b[0m\u001b[0;34m.\u001b[0m\u001b[0mzeros\u001b[0m\u001b[0;34m(\u001b[0m\u001b[0mlen\u001b[0m\u001b[0;34m(\u001b[0m\u001b[0mvdat\u001b[0m\u001b[0;34m)\u001b[0m\u001b[0;34m,\u001b[0m\u001b[0mdtype\u001b[0m\u001b[0;34m=\u001b[0m\u001b[0mjdat\u001b[0m\u001b[0;34m.\u001b[0m\u001b[0mdtype\u001b[0m\u001b[0;34m)\u001b[0m\u001b[0;34m\u001b[0m\u001b[0m\n\u001b[1;32m     17\u001b[0m \u001b[0mmatchedarray1\u001b[0m\u001b[0;34m[\u001b[0m\u001b[0mmatchflag\u001b[0m\u001b[0;34m]\u001b[0m \u001b[0;34m=\u001b[0m \u001b[0mjdat\u001b[0m\u001b[0;34m[\u001b[0m\u001b[0mindex\u001b[0m\u001b[0;34m[\u001b[0m\u001b[0mmatchflag\u001b[0m\u001b[0;34m]\u001b[0m\u001b[0;34m]\u001b[0m\u001b[0;34m\u001b[0m\u001b[0m\n\u001b[0;32m---> 18\u001b[0;31m \u001b[0mmatchedarray1\u001b[0m\u001b[0;34m.\u001b[0m\u001b[0madd_column\u001b[0m\u001b[0;34m(\u001b[0m\u001b[0mmatchflag\u001b[0m\u001b[0;34m,\u001b[0m\u001b[0mdtype\u001b[0m\u001b[0;34m=\u001b[0m\u001b[0mbool\u001b[0m\u001b[0;34m)\u001b[0m\u001b[0;34m\u001b[0m\u001b[0m\n\u001b[0m\u001b[1;32m     19\u001b[0m \u001b[0mfits\u001b[0m\u001b[0;34m.\u001b[0m\u001b[0mwriteto\u001b[0m\u001b[0;34m(\u001b[0m\u001b[0moutfile\u001b[0m\u001b[0;34m,\u001b[0m\u001b[0mmatchedarray1\u001b[0m\u001b[0;34m,\u001b[0m\u001b[0mclobber\u001b[0m\u001b[0;34m=\u001b[0m\u001b[0mTrue\u001b[0m\u001b[0;34m)\u001b[0m\u001b[0;34m\u001b[0m\u001b[0m\n\u001b[1;32m     20\u001b[0m \u001b[0;34m\u001b[0m\u001b[0m\n",
      "\u001b[0;31mAttributeError\u001b[0m: 'numpy.ndarray' object has no attribute 'add_column'"
     ]
    }
   ],
   "source": [
    "#Line Match with Jablonka Catalog\n",
    "\n",
    "vdat = fits.getdata(table_ext +'VirgoCatalog.fits')\n",
    "jdat = fits.getdata(table_ext + 'Jablonka-MasterFile.fits')\n",
    "\n",
    "virgocat = SkyCoord(vdat.RA*u.degree,vdat.DEC*u.degree,frame='icrs')\n",
    "jcat = SkyCoord(jdat.RA*u.degree,jdat.DEC*u.degree,frame='icrs')\n",
    "\n",
    "index,dist2d,dist3d = virgocat.match_to_catalog_sky(jcat)\n",
    "\n",
    "# only keep matches with matched RA and Dec w/in 1 arcsec\n",
    "matchflag = dist2d.degree < 2./3600\n",
    "\n",
    "# write out line-matched catalog\n",
    "outfile= table_ext + 'CO-HI_virgo.fits'\n",
    "matchedarray1=np.zeros(len(vdat),dtype=jdat.dtype)\n",
    "matchedarray1[matchflag] = jdat[index[matchflag]]\n",
    "\n",
    "fits.writeto(outfile,matchedarray1,clobber=True)\n",
    "#t = fits.getdata(outfile)\n",
    "#t.add_column()\n",
    "\n"
   ]
  },
  {
   "cell_type": "code",
   "execution_count": 64,
   "metadata": {
    "collapsed": false
   },
   "outputs": [],
   "source": [
    "#Line match this catalog to Moustakas's stellar mass file\n",
    "vdat = fits.getdata(table_ext + 'VirgoCatalog.fits')\n",
    "mdat = fits.getdata(table_ext + 'nsa_v1_2_fsps_v2.4_miles_chab_charlot_sfhgrid01.Virgo.fits')\n",
    "\n",
    "virgocat = SkyCoord(vdat.RA*u.degree,vdat.DEC*u.degree,frame='icrs')\n",
    "masscat = SkyCoord(mdat.RA*u.degree,mdat.DEC*u.degree,frame='icrs')\n",
    "\n",
    "index,dist2d,dist3d = virgocat.match_to_catalog_sky(masscat)\n",
    "\n",
    "# only keep matches with matched RA and Dec w/in 1 arcsec\n",
    "matchflag = dist2d.degree < 2./3600\n",
    "\n",
    "# write out line-matched catalog\n",
    "outfile= table_ext + 'StellarMasstoNSA_virgo.fits'\n",
    "matchedarray1=np.zeros(len(vdat),dtype=mdat.dtype)\n",
    "matchedarray1[matchflag] = mdat[index[matchflag]]\n",
    "fits.writeto(outfile,matchedarray1,clobber=True)"
   ]
  },
  {
   "cell_type": "code",
   "execution_count": 65,
   "metadata": {
    "collapsed": false
   },
   "outputs": [],
   "source": [
    "#Line match this catalog to Yang Model\n",
    "vdat = fits.getdata(table_ext + 'VirgoCatalog.fits')\n",
    "ydat = fits.getdata(table_ext + 'YangDR7ModelToNSA.fits')\n",
    "\n",
    "virgocat = SkyCoord(vdat.RA*u.degree,vdat.DEC*u.degree,frame='icrs')\n",
    "yangcat = SkyCoord(ydat.RA_gal*u.degree,ydat.DEC_gal*u.degree,frame='icrs')\n",
    "\n",
    "index,dist2d,dist3d = virgocat.match_to_catalog_sky(yangcat)\n",
    "\n",
    "# only keep matches with matched RA and Dec w/in 1 arcsec\n",
    "matchflag = dist2d.degree < 2./3600\n",
    "\n",
    "# write out line-matched catalog\n",
    "outfile= table_ext + 'YangModeltoNSA_virgo.fits'\n",
    "matchedarray1=np.zeros(len(vdat),dtype=ydat.dtype)\n",
    "matchedarray1[matchflag] = ydat[index[matchflag]]\n",
    "fits.writeto(outfile,matchedarray1,clobber=True)"
   ]
  },
  {
   "cell_type": "code",
   "execution_count": 66,
   "metadata": {
    "collapsed": false
   },
   "outputs": [],
   "source": [
    "#Line match this catalog to Yang Petro\n",
    "vdat = fits.getdata(table_ext + 'VirgoCatalog.fits')\n",
    "ydat = fits.getdata(table_ext + 'YangDR7PetroToNSA.fits')\n",
    "\n",
    "virgocat = SkyCoord(vdat.RA*u.degree,vdat.DEC*u.degree,frame='icrs')\n",
    "yangcat = SkyCoord(ydat.RA_gal*u.degree,ydat.DEC_gal*u.degree,frame='icrs')\n",
    "\n",
    "index,dist2d,dist3d = virgocat.match_to_catalog_sky(yangcat)\n",
    "\n",
    "# only keep matches with matched RA and Dec w/in 1 arcsec\n",
    "matchflag = dist2d.degree < 2./3600\n",
    "\n",
    "# write out line-matched catalog\n",
    "outfile= table_ext + 'YangPetrotoNSA_virgo.fits'\n",
    "matchedarray1=np.zeros(len(vdat),dtype=ydat.dtype)\n",
    "matchedarray1[matchflag] = ydat[index[matchflag]]\n",
    "fits.writeto(outfile,matchedarray1,clobber=True)"
   ]
  },
  {
   "cell_type": "code",
   "execution_count": 67,
   "metadata": {
    "collapsed": false
   },
   "outputs": [],
   "source": [
    "#Line match this catalog to simard 1\n",
    "\n",
    "vdat = fits.getdata(table_ext + 'VirgoCatalog.fits')\n",
    "sdat = fits.getdata(table_ext + 'Simard1ToNSA.fits')\n",
    "\n",
    "virgocat = SkyCoord(vdat.RA*u.degree,vdat.DEC*u.degree,frame='icrs')\n",
    "simardcat = SkyCoord(sdat._RA*u.degree,sdat._DE*u.degree,frame='icrs')\n",
    "\n",
    "index,dist2d,dist3d = virgocat.match_to_catalog_sky(simardcat)\n",
    "\n",
    "# only keep matches with matched RA and Dec w/in 1 arcsec\n",
    "matchflag = dist2d.degree < 2./3600\n",
    "\n",
    "# write out line-matched catalog\n",
    "outfile= table_ext + 'Simard1toNSA_virgo.fits'\n",
    "matchedarray1=np.zeros(len(vdat),dtype=sdat.dtype)\n",
    "matchedarray1[matchflag] = sdat[index[matchflag]]\n",
    "fits.writeto(outfile,matchedarray1,clobber=True)\n",
    "\n"
   ]
  },
  {
   "cell_type": "code",
   "execution_count": 68,
   "metadata": {
    "collapsed": false
   },
   "outputs": [],
   "source": [
    "#Line match this catalog to simard 2\n",
    "\n",
    "vdat = fits.getdata(table_ext + 'VirgoCatalog.fits')\n",
    "sdat = fits.getdata(table_ext + 'Simard2ToNSA.fits')\n",
    "\n",
    "virgocat = SkyCoord(vdat.RA*u.degree,vdat.DEC*u.degree,frame='icrs')\n",
    "#simardcat = SkyCoord(sdat._RA*u.degree,sdat._DE*u.degree,frame='icrs')\n",
    "\n",
    "index,dist2d,dist3d = virgocat.match_to_catalog_sky(simardcat)\n",
    "\n",
    "# only keep matches with matched RA and Dec w/in 1 arcsec\n",
    "matchflag = dist2d.degree < 2./3600\n",
    "\n",
    "# write out line-matched catalog\n",
    "outfile= table_ext + 'Simard2toNSA_virgo.fits'\n",
    "matchedarray1=np.zeros(len(vdat),dtype=sdat.dtype)\n",
    "matchedarray1[matchflag] = sdat[index[matchflag]]\n",
    "fits.writeto(outfile,matchedarray1,clobber=True)"
   ]
  },
  {
   "cell_type": "code",
   "execution_count": 69,
   "metadata": {
    "collapsed": false
   },
   "outputs": [],
   "source": [
    "#Line match this catalog to simard 3\n",
    "\n",
    "vdat = fits.getdata(table_ext + 'VirgoCatalog.fits')\n",
    "sdat = fits.getdata(table_ext +'Simard3ToNSA.fits')\n",
    "\n",
    "virgocat = SkyCoord(vdat.RA*u.degree,vdat.DEC*u.degree,frame='icrs')\n",
    "#simardcat = SkyCoord(sdat._RA*u.degree,sdat._DE*u.degree,frame='icrs')\n",
    "\n",
    "index,dist2d,dist3d = virgocat.match_to_catalog_sky(simardcat)\n",
    "\n",
    "# only keep matches with matched RA and Dec w/in 1 arcsec\n",
    "matchflag = dist2d.degree < 2./3600\n",
    "\n",
    "# write out line-matched catalog\n",
    "outfile=table_ext + 'Simard3toNSA_virgo.fits'\n",
    "matchedarray1=np.zeros(len(vdat),dtype=sdat.dtype)\n",
    "matchedarray1[matchflag] = sdat[index[matchflag]]\n",
    "fits.writeto(outfile,matchedarray1,clobber=True)"
   ]
  },
  {
   "cell_type": "code",
   "execution_count": 70,
   "metadata": {
    "collapsed": false
   },
   "outputs": [],
   "source": [
    "#Line match with GALEX/WISE\n",
    "#ALL SKY CATALOG\n",
    "\n",
    "#initializes record array\n",
    "infile = table_ext + 'GSWLC-A1.dat'\n",
    "catA1 = np.loadtxt(infile, dtype = {'names':('objID','glxID','plate','MJD','fiberID','RA','DEC','z','chisq','logMstar','err_logMstar','logSFR_SED','err_logSFR_SED','A_FUV','err_A_FUV','A_B','err_A_B','A_V','err_A_V','flag_SED','UV_survey','logSFR_MIR_AW','flag_wise','logSFR_MIR_UW','flag_unwise','flag_mgs'), 'formats': (np.int,# ObjID\n",
    "                                   np.int,\n",
    "                                   np.int,\n",
    "                                   np.int,\n",
    "                                   np.int,# fiberID\n",
    "                                   np.float,\n",
    "                                   np.float,\n",
    "                                   np.float,\n",
    "                                   np.float,\n",
    "                                   np.float,\n",
    "                                   np.float,\n",
    "                                   np.float, #log SFR_SED\n",
    "                                   np.float,\n",
    "                                   np.float, #A_FUV\n",
    "                                   np.float,\n",
    "                                   np.float,\n",
    "                                   np.float,\n",
    "                                   np.float,\n",
    "                                   np.float,\n",
    "                                   np.int, #flag_sed\n",
    "                                   np.int, #UV surve\n",
    "                                   np.float,\n",
    "                                   np.int,\n",
    "                                   np.float,\n",
    "                                   np.int,\n",
    "                                   np.int)})\n",
    "\n",
    "\n",
    "#matching time!\n",
    "virgocat = SkyCoord(vdat.RA*u.degree,vdat.DEC*u.degree,frame='icrs')\n",
    "samircat = SkyCoord(catA1['RA']*u.degree,catA1['DEC']*u.degree,frame='icrs')\n",
    "index,dist2d,dist3d = virgocat.match_to_catalog_sky(samircat)\n",
    "\n",
    "# only keep matches with matched RA and Dec w/in 1 arcsec\n",
    "matchflag = dist2d.degree < 2./3600\n",
    "\n",
    "# write out line-matched catalog\n",
    "outfile = table_ext + 'GALEX-WISE-allsky_virgo.fits'\n",
    "matchedarray1=np.zeros(len(vdat),dtype=catA1.dtype)\n",
    "matchedarray1[matchflag] = catA1[index[matchflag]]\n",
    "fits.writeto(outfile,matchedarray1,clobber=True)\n"
   ]
  },
  {
   "cell_type": "code",
   "execution_count": 71,
   "metadata": {
    "collapsed": false
   },
   "outputs": [],
   "source": [
    "#MID SKY\n",
    "\n",
    "#initializes record array\n",
    "infile = table_ext + 'GSWLC-M1.dat'\n",
    "catA1 = np.loadtxt(infile, dtype = {'names':('objID','glxID','plate','MJD','fiberID','RA','DEC','z','chisq','logMstar','err_logMstar','logSFR_SED','err_logSFR_SED','A_FUV','err_A_FUV','A_B','err_A_B','A_V','err_A_V','flag_SED','UV_survey','logSFR_MIR_AW','flag_wise','logSFR_MIR_UW','flag_unwise','flag_mgs'), 'formats': (np.int,# ObjID\n",
    "                                   np.int,\n",
    "                                   np.int,\n",
    "                                   np.int,\n",
    "                                   np.int,# fiberID\n",
    "                                   np.float,\n",
    "                                   np.float,\n",
    "                                   np.float,\n",
    "                                   np.float,\n",
    "                                   np.float,\n",
    "                                   np.float,\n",
    "                                   np.float, #log SFR_SED\n",
    "                                   np.float,\n",
    "                                   np.float, #A_FUV\n",
    "                                   np.float,\n",
    "                                   np.float,\n",
    "                                   np.float,\n",
    "                                   np.float,\n",
    "                                   np.float,\n",
    "                                   np.int, #flag_sed\n",
    "                                   np.int, #UV surve\n",
    "                                   np.float,\n",
    "                                   np.int,\n",
    "                                   np.float,\n",
    "                                   np.int,\n",
    "                                   np.int)})\n",
    "\n",
    "\n",
    "#matching time!\n",
    "virgocat = SkyCoord(vdat.RA*u.degree,vdat.DEC*u.degree,frame='icrs')\n",
    "samircat = SkyCoord(catA1['RA']*u.degree,catA1['DEC']*u.degree,frame='icrs')\n",
    "index,dist2d,dist3d = virgocat.match_to_catalog_sky(samircat)\n",
    "\n",
    "# only keep matches with matched RA and Dec w/in 1 arcsec\n",
    "matchflag = dist2d.degree < 2./3600\n",
    "\n",
    "# write out line-matched catalog\n",
    "outfile= table_ext + 'GALEX-WISE-mid_virgo.fits'\n",
    "matchedarray1=np.zeros(len(vdat),dtype=catA1.dtype)\n",
    "matchedarray1[matchflag] = catA1[index[matchflag]]\n",
    "fits.writeto(outfile,matchedarray1,clobber=True)\n"
   ]
  },
  {
   "cell_type": "code",
   "execution_count": 72,
   "metadata": {
    "collapsed": false
   },
   "outputs": [],
   "source": [
    "#Line match with GALEX/WISE\n",
    "#DEEP SKY CATALOG\n",
    "\n",
    "#initializes record array\n",
    "infile = table_ext + 'GSWLC-D1.dat'\n",
    "catA1 = np.loadtxt(infile, dtype = {'names':('objID','glxID','plate','MJD','fiberID','RA','DEC','z','chisq','logMstar','err_logMstar','logSFR_SED','err_logSFR_SED','A_FUV','err_A_FUV','A_B','err_A_B','A_V','err_A_V','flag_SED','UV_survey','logSFR_MIR_AW','flag_wise','logSFR_MIR_UW','flag_unwise','flag_mgs'), 'formats': (np.int,# ObjID\n",
    "                                   np.int,\n",
    "                                   np.int,\n",
    "                                   np.int,\n",
    "                                   np.int,# fiberID\n",
    "                                   np.float,\n",
    "                                   np.float,\n",
    "                                   np.float,\n",
    "                                   np.float,\n",
    "                                   np.float,\n",
    "                                   np.float,\n",
    "                                   np.float, #log SFR_SED\n",
    "                                   np.float,\n",
    "                                   np.float, #A_FUV\n",
    "                                   np.float,\n",
    "                                   np.float,\n",
    "                                   np.float,\n",
    "                                   np.float,\n",
    "                                   np.float,\n",
    "                                   np.int, #flag_sed\n",
    "                                   np.int, #UV surve\n",
    "                                   np.float,\n",
    "                                   np.int,\n",
    "                                   np.float,\n",
    "                                   np.int,\n",
    "                                   np.int)})\n",
    "\n",
    "\n",
    "#matching time!\n",
    "virgocat = SkyCoord(vdat.RA*u.degree,vdat.DEC*u.degree,frame='icrs')\n",
    "samircat = SkyCoord(catA1['RA']*u.degree,catA1['DEC']*u.degree,frame='icrs')\n",
    "index,dist2d,dist3d = virgocat.match_to_catalog_sky(samircat)\n",
    "\n",
    "# only keep matches with matched RA and Dec w/in 1 arcsec\n",
    "matchflag = dist2d.degree < 2./3600\n",
    "\n",
    "# write out line-matched catalog\n",
    "outfile= table_ext + 'GALEX-WISE-deepsky_virgo.fits'\n",
    "matchedarray1=np.zeros(len(vdat),dtype=catA1.dtype)\n",
    "matchedarray1[matchflag] = catA1[index[matchflag]]\n",
    "fits.writeto(outfile,matchedarray1,clobber=True)\n",
    "\n"
   ]
  },
  {
   "cell_type": "code",
   "execution_count": 73,
   "metadata": {
    "collapsed": false
   },
   "outputs": [],
   "source": [
    "#Line Match with AGC catalog\n",
    "\n",
    "vdat = fits.getdata(table_ext +'VirgoCatalog.fits')\n",
    "agcdat = fits.getdata(table_ext + 'agctotal.fits')\n",
    "\n",
    "virgocat = SkyCoord(vdat.RA*u.degree,vdat.DEC*u.degree,frame='icrs')\n",
    "agccat = SkyCoord(agcdat.RA*u.degree,agcdat.DEC*u.degree,frame='icrs')\n",
    "\n",
    "index,dist2d,dist3d = virgocat.match_to_catalog_sky(agccat)\n",
    "\n",
    "# only keep matches with matched RA and Dec w/in 1 arcsec\n",
    "matchflag = dist2d.degree < 2./3600\n",
    "\n",
    "# write out line-matched catalog\n",
    "outfile= table_ext + 'AGCtoNSA_virgo.fits'\n",
    "matchedarray1=np.zeros(len(vdat),dtype=agcdat.dtype)\n",
    "matchedarray1[matchflag] = agcdat[index[matchflag]]\n",
    "fits.writeto(outfile,matchedarray1,clobber=True)"
   ]
  },
  {
   "cell_type": "code",
   "execution_count": null,
   "metadata": {
    "collapsed": false
   },
   "outputs": [],
   "source": []
  },
  {
   "cell_type": "code",
   "execution_count": null,
   "metadata": {
    "collapsed": false
   },
   "outputs": [],
   "source": []
  },
  {
   "cell_type": "code",
   "execution_count": null,
   "metadata": {
    "collapsed": true
   },
   "outputs": [],
   "source": []
  },
  {
   "cell_type": "code",
   "execution_count": null,
   "metadata": {
    "collapsed": true
   },
   "outputs": [],
   "source": []
  },
  {
   "cell_type": "code",
   "execution_count": null,
   "metadata": {
    "collapsed": true
   },
   "outputs": [],
   "source": []
  },
  {
   "cell_type": "code",
   "execution_count": null,
   "metadata": {
    "collapsed": true
   },
   "outputs": [],
   "source": []
  }
 ],
 "metadata": {
  "anaconda-cloud": {},
  "kernelspec": {
   "display_name": "Python [conda env:astroconda]",
   "language": "python",
   "name": "conda-env-astroconda-py"
  },
  "language_info": {
   "codemirror_mode": {
    "name": "ipython",
    "version": 2
   },
   "file_extension": ".py",
   "mimetype": "text/x-python",
   "name": "python",
   "nbconvert_exporter": "python",
   "pygments_lexer": "ipython2",
   "version": "2.7.11"
  }
 },
 "nbformat": 4,
 "nbformat_minor": 1
}
